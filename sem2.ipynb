{
 "cells": [
  {
   "cell_type": "markdown",
   "source": "# Инструменты для работы с языком ",
   "metadata": {
    "id": "DUotKHRULVPD",
    "cell_id": "acaba28c-2b32-40e8-8d69-ac35416772b4",
    "deepnote_cell_type": "markdown",
    "deepnote_cell_height": 82
   }
  },
  {
   "cell_type": "markdown",
   "source": "## Задача: классификация твитов по тональности\n\nУ нас есть датасет из твитов, про каждый указано, как он эмоционально окрашен: положительно или отрицательно. Задача: предсказывать эмоциональную окраску.\n\nСкачиваем куски датасета ([источник](http://study.mokoron.com/)): [положительные](https://www.dropbox.com/s/fnpq3z4bcnoktiv/positive.csv?dl=0), [отрицательные](https://www.dropbox.com/s/r6u59ljhhjdg6j0/negative.csv).",
   "metadata": {
    "id": "8ba5Z02VLVPK",
    "cell_id": "00001-0091d675-21fe-4943-bbd1-5bdb566b60d0",
    "deepnote_cell_type": "markdown",
    "deepnote_cell_height": 167.1875
   }
  },
  {
   "cell_type": "code",
   "metadata": {
    "colab": {
     "base_uri": "https://localhost:8080/"
    },
    "id": "2zHB70n5LVPN",
    "outputId": "76e9cc41-c912-464c-a06e-e02879e69c08",
    "scrolled": true,
    "cell_id": "00002-c62f726a-64ea-4ca4-90b6-a0ca251e263b",
    "deepnote_to_be_reexecuted": false,
    "source_hash": "ec3eb6ea",
    "execution_start": 1654167666722,
    "execution_millis": 3982,
    "deepnote_cell_type": "code",
    "deepnote_cell_height": 737
   },
   "source": "# если у вас линукс / мак / collab или ещё какая-то среда, в которой работает wget, можно так:\n!wget https://www.dropbox.com/s/fnpq3z4bcnoktiv/positive.csv\n!wget https://www.dropbox.com/s/r6u59ljhhjdg6j0/negative.csv",
   "execution_count": 1,
   "outputs": [
    {
     "name": "stdout",
     "text": "--2022-06-02 11:01:07--  https://www.dropbox.com/s/fnpq3z4bcnoktiv/positive.csv\nResolving www.dropbox.com (www.dropbox.com)... 162.125.6.18, 2620:100:601c:18::a27d:612\nConnecting to www.dropbox.com (www.dropbox.com)|162.125.6.18|:443... connected.\nHTTP request sent, awaiting response... 301 Moved Permanently\nLocation: /s/raw/fnpq3z4bcnoktiv/positive.csv [following]\n--2022-06-02 11:01:07--  https://www.dropbox.com/s/raw/fnpq3z4bcnoktiv/positive.csv\nReusing existing connection to www.dropbox.com:443.\nHTTP request sent, awaiting response... 302 Found\nLocation: https://uc7fcdd82e85b39abba6a507d7c9.dl.dropboxusercontent.com/cd/0/inline/BmaMO8l6PoYOdWwM8Qj5HR3ar0Vns3m-q_3bCo0JjeNsWHOfm1-Y7F1ul8gorFcoJlgE7s1V6ydgW0dCTpSJzBoQO4AmzRpze9pS3ZyxT9CdNJmPWPf6fS27XW0NWA-ZRODWmjHw720sP0IgULTTvQcHkrahTGEckPGXq_paVk491A/file# [following]\n--2022-06-02 11:01:07--  https://uc7fcdd82e85b39abba6a507d7c9.dl.dropboxusercontent.com/cd/0/inline/BmaMO8l6PoYOdWwM8Qj5HR3ar0Vns3m-q_3bCo0JjeNsWHOfm1-Y7F1ul8gorFcoJlgE7s1V6ydgW0dCTpSJzBoQO4AmzRpze9pS3ZyxT9CdNJmPWPf6fS27XW0NWA-ZRODWmjHw720sP0IgULTTvQcHkrahTGEckPGXq_paVk491A/file\nResolving uc7fcdd82e85b39abba6a507d7c9.dl.dropboxusercontent.com (uc7fcdd82e85b39abba6a507d7c9.dl.dropboxusercontent.com)... 162.125.6.15, 2620:100:601c:15::a27d:60f\nConnecting to uc7fcdd82e85b39abba6a507d7c9.dl.dropboxusercontent.com (uc7fcdd82e85b39abba6a507d7c9.dl.dropboxusercontent.com)|162.125.6.15|:443... connected.\nHTTP request sent, awaiting response... 200 OK\nLength: 26233379 (25M) [text/plain]\nSaving to: ‘positive.csv.3’\n\npositive.csv.3      100%[===================>]  25.02M  50.3MB/s    in 0.5s    \n\n2022-06-02 11:01:08 (50.3 MB/s) - ‘positive.csv.3’ saved [26233379/26233379]\n\n--2022-06-02 11:01:09--  https://www.dropbox.com/s/r6u59ljhhjdg6j0/negative.csv\nResolving www.dropbox.com (www.dropbox.com)... 162.125.6.18, 2620:100:601c:18::a27d:612\nConnecting to www.dropbox.com (www.dropbox.com)|162.125.6.18|:443... connected.\nHTTP request sent, awaiting response... 301 Moved Permanently\nLocation: /s/raw/r6u59ljhhjdg6j0/negative.csv [following]\n--2022-06-02 11:01:09--  https://www.dropbox.com/s/raw/r6u59ljhhjdg6j0/negative.csv\nReusing existing connection to www.dropbox.com:443.\nHTTP request sent, awaiting response... 302 Found\nLocation: https://uc283f68246da955d8c8d9f69f52.dl.dropboxusercontent.com/cd/0/inline/BmYLyzN-FLlK4hcWJ8TmjJ1cGCi_GO_OkdVylayXvradfMa0VdpHvj7kdZlsNRiVva0d-NP9eWtFEq5CDnmT0QVelthuXYcbVxQzzrNOtwN5IkzlzJUMkjhXTerSJIiTLyZb-VQ8ABjqC0RYDbF6Pd8kNOYOtzJ1yjGKN5tMLUjWHQ/file# [following]\n--2022-06-02 11:01:09--  https://uc283f68246da955d8c8d9f69f52.dl.dropboxusercontent.com/cd/0/inline/BmYLyzN-FLlK4hcWJ8TmjJ1cGCi_GO_OkdVylayXvradfMa0VdpHvj7kdZlsNRiVva0d-NP9eWtFEq5CDnmT0QVelthuXYcbVxQzzrNOtwN5IkzlzJUMkjhXTerSJIiTLyZb-VQ8ABjqC0RYDbF6Pd8kNOYOtzJ1yjGKN5tMLUjWHQ/file\nResolving uc283f68246da955d8c8d9f69f52.dl.dropboxusercontent.com (uc283f68246da955d8c8d9f69f52.dl.dropboxusercontent.com)... 162.125.6.15, 2620:100:601c:15::a27d:60f\nConnecting to uc283f68246da955d8c8d9f69f52.dl.dropboxusercontent.com (uc283f68246da955d8c8d9f69f52.dl.dropboxusercontent.com)|162.125.6.15|:443... connected.\nHTTP request sent, awaiting response... 200 OK\nLength: 24450101 (23M) [text/plain]\nSaving to: ‘negative.csv.3’\n\nnegative.csv.3      100%[===================>]  23.32M  58.1MB/s    in 0.4s    \n\n2022-06-02 11:01:10 (58.1 MB/s) - ‘negative.csv.3’ saved [24450101/24450101]\n\n",
     "output_type": "stream"
    }
   ]
  },
  {
   "cell_type": "code",
   "metadata": {
    "id": "J5YiZNCPLVPe",
    "cell_id": "00003-ea77b98f-1d28-451b-9fb3-90241147235f",
    "deepnote_to_be_reexecuted": false,
    "source_hash": "9eccef5e",
    "execution_start": 1654167670743,
    "execution_millis": 2515,
    "deepnote_cell_type": "code",
    "deepnote_cell_height": 153
   },
   "source": "import pandas as pd\nimport numpy as np\nfrom sklearn.metrics import *\nfrom sklearn.model_selection import train_test_split\nfrom sklearn.pipeline import Pipeline",
   "execution_count": 2,
   "outputs": []
  },
  {
   "cell_type": "code",
   "metadata": {
    "id": "DFLtXAZ-LVPq",
    "cell_id": "00004-3261869b-df5d-47aa-9384-6450cb221573",
    "deepnote_to_be_reexecuted": false,
    "source_hash": "283a3254",
    "execution_start": 1654167673280,
    "execution_millis": 3542,
    "deepnote_cell_type": "code",
    "deepnote_cell_height": 171
   },
   "source": "# считываем данные и заполняем общий датасет\npositive = pd.read_csv('positive.csv', sep=';', usecols=[3], names=['text'])\npositive['label'] = ['positive'] * len(positive)\nnegative = pd.read_csv('negative.csv', sep=';', usecols=[3], names=['text'])\nnegative['label'] = ['negative'] * len(negative)\ndf = positive.append(negative)",
   "execution_count": 3,
   "outputs": []
  },
  {
   "cell_type": "code",
   "metadata": {
    "colab": {
     "base_uri": "https://localhost:8080/",
     "height": 203
    },
    "id": "j1AEISlBLVP0",
    "outputId": "443eadf2-9df4-4507-f2a5-a64f7968182f",
    "cell_id": "00005-57b900d9-8d0a-4a19-9100-9cc89d879f72",
    "deepnote_to_be_reexecuted": false,
    "source_hash": "838c0c28",
    "execution_start": 1654167676876,
    "execution_millis": 64,
    "deepnote_cell_type": "code",
    "deepnote_cell_height": 395,
    "deepnote_output_heights": [
     177
    ]
   },
   "source": "df.tail()",
   "execution_count": 4,
   "outputs": [
    {
     "output_type": "execute_result",
     "execution_count": 4,
     "data": {
      "application/vnd.deepnote.dataframe.v3+json": {
       "column_count": 2,
       "row_count": 5,
       "columns": [
        {
         "name": "text",
         "dtype": "object",
         "stats": {
          "unique_count": 5,
          "nan_count": 0,
          "categories": [
           {
            "name": "Но не каждый хочет что то исправлять:( http://t.co/QNODDQzuZ7",
            "count": 1
           },
           {
            "name": "скучаю так :-( только @taaannyaaa вправляет мозги, но я все равно скучаю",
            "count": 1
           },
           {
            "name": "3 others",
            "count": 3
           }
          ]
         }
        },
        {
         "name": "label",
         "dtype": "object",
         "stats": {
          "unique_count": 1,
          "nan_count": 0,
          "categories": [
           {
            "name": "negative",
            "count": 5
           }
          ]
         }
        },
        {
         "name": "_deepnote_index_column",
         "dtype": "int64"
        }
       ],
       "rows": [
        {
         "text": "Но не каждый хочет что то исправлять:( http://t.co/QNODDQzuZ7",
         "label": "negative",
         "_deepnote_index_column": 111918
        },
        {
         "text": "скучаю так :-( только @taaannyaaa вправляет мозги, но я все равно скучаю",
         "label": "negative",
         "_deepnote_index_column": 111919
        },
        {
         "text": "Вот и в школу, в говно это идти уже надо(",
         "label": "negative",
         "_deepnote_index_column": 111920
        },
        {
         "text": "RT @_Them__: @LisaBeroud Тауриэль, не грусти :( *обнял*",
         "label": "negative",
         "_deepnote_index_column": 111921
        },
        {
         "text": "Такси везет меня на работу. Раздумываю приплатить, чтобы меня втащили на пятый этаж. Лифта то нет :(",
         "label": "negative",
         "_deepnote_index_column": 111922
        }
       ]
      },
      "text/plain": "                                                     text     label\n111918  Но не каждый хочет что то исправлять:( http://...  negative\n111919  скучаю так :-( только @taaannyaaa вправляет мо...  negative\n111920          Вот и в школу, в говно это идти уже надо(  negative\n111921  RT @_Them__: @LisaBeroud Тауриэль, не грусти :...  negative\n111922  Такси везет меня на работу. Раздумываю приплат...  negative",
      "text/html": "<div>\n<style scoped>\n    .dataframe tbody tr th:only-of-type {\n        vertical-align: middle;\n    }\n\n    .dataframe tbody tr th {\n        vertical-align: top;\n    }\n\n    .dataframe thead th {\n        text-align: right;\n    }\n</style>\n<table border=\"1\" class=\"dataframe\">\n  <thead>\n    <tr style=\"text-align: right;\">\n      <th></th>\n      <th>text</th>\n      <th>label</th>\n    </tr>\n  </thead>\n  <tbody>\n    <tr>\n      <th>111918</th>\n      <td>Но не каждый хочет что то исправлять:( http://...</td>\n      <td>negative</td>\n    </tr>\n    <tr>\n      <th>111919</th>\n      <td>скучаю так :-( только @taaannyaaa вправляет мо...</td>\n      <td>negative</td>\n    </tr>\n    <tr>\n      <th>111920</th>\n      <td>Вот и в школу, в говно это идти уже надо(</td>\n      <td>negative</td>\n    </tr>\n    <tr>\n      <th>111921</th>\n      <td>RT @_Them__: @LisaBeroud Тауриэль, не грусти :...</td>\n      <td>negative</td>\n    </tr>\n    <tr>\n      <th>111922</th>\n      <td>Такси везет меня на работу. Раздумываю приплат...</td>\n      <td>negative</td>\n    </tr>\n  </tbody>\n</table>\n</div>"
     },
     "metadata": {}
    }
   ]
  },
  {
   "cell_type": "code",
   "metadata": {
    "id": "ZWta7oDgLVP8",
    "cell_id": "00006-feb5b407-f4a4-43bd-a642-e95db1332315",
    "deepnote_to_be_reexecuted": false,
    "source_hash": "7ddfa5be",
    "execution_start": 1654167676982,
    "execution_millis": 113,
    "deepnote_cell_type": "code",
    "deepnote_cell_height": 81
   },
   "source": "x_train, x_test, y_train, y_test = train_test_split(df.text, df.label)",
   "execution_count": 5,
   "outputs": []
  },
  {
   "cell_type": "markdown",
   "source": "## Baseline: классификация необработанных n-грамм\n\n### Векторизаторы",
   "metadata": {
    "id": "tAapBC7VLVQC",
    "cell_id": "00007-9d110186-718b-44f0-bc92-dfb5217ed030",
    "deepnote_cell_type": "markdown",
    "deepnote_cell_height": 118
   }
  },
  {
   "cell_type": "code",
   "metadata": {
    "id": "M-AvVt8XLVQD",
    "cell_id": "00008-86189fad-6884-4dc1-90b1-120d1958f2bd",
    "deepnote_to_be_reexecuted": false,
    "source_hash": "82ee3d32",
    "execution_start": 1654167677141,
    "execution_millis": 398,
    "deepnote_cell_type": "code",
    "deepnote_cell_height": 99
   },
   "source": "from sklearn.linear_model import LogisticRegression # можно заменить на любимый классификатор\nfrom sklearn.feature_extraction.text import CountVectorizer",
   "execution_count": 6,
   "outputs": []
  },
  {
   "cell_type": "markdown",
   "source": "Что такое n-граммы:",
   "metadata": {
    "id": "GSuoVoxcLVQI",
    "cell_id": "00009-b332d680-919b-4416-9521-0a38f7268c1f",
    "deepnote_cell_type": "markdown",
    "deepnote_cell_height": 52.390625
   }
  },
  {
   "cell_type": "code",
   "metadata": {
    "id": "zeNA7732LVQJ",
    "cell_id": "00010-49d4b277-efbe-4d43-969f-6d2efd3b974a",
    "deepnote_to_be_reexecuted": false,
    "source_hash": "c1fcb169",
    "execution_start": 1654167677539,
    "execution_millis": 1532,
    "deepnote_cell_type": "code",
    "deepnote_cell_height": 81
   },
   "source": "from nltk import ngrams",
   "execution_count": 7,
   "outputs": []
  },
  {
   "cell_type": "code",
   "metadata": {
    "colab": {
     "base_uri": "https://localhost:8080/"
    },
    "id": "NeApDOmrLVQN",
    "outputId": "d8c763fe-2658-47ac-fcee-5b7bbe49f0d0",
    "cell_id": "00011-b6dd0261-0042-4e8a-b3c9-86a40faff9d1",
    "deepnote_to_be_reexecuted": false,
    "source_hash": "2f480e95",
    "execution_start": 1654167679112,
    "execution_millis": 68,
    "deepnote_cell_type": "code",
    "deepnote_cell_height": 136.1875,
    "deepnote_output_heights": [
     21.1875
    ]
   },
   "source": "sent = 'Если б мне платили каждый раз'.split()\nlist(ngrams(sent, 1)) # униграммы",
   "execution_count": 8,
   "outputs": [
    {
     "output_type": "execute_result",
     "execution_count": 8,
     "data": {
      "text/plain": "[('Если',), ('б',), ('мне',), ('платили',), ('каждый',), ('раз',)]"
     },
     "metadata": {}
    }
   ]
  },
  {
   "cell_type": "code",
   "metadata": {
    "colab": {
     "base_uri": "https://localhost:8080/"
    },
    "id": "OPAS0fS-LVQQ",
    "outputId": "aa3ae031-c661-4639-b7ab-f93ba1b6cee5",
    "cell_id": "00012-646f8d08-048c-4bf3-b221-477b008230ad",
    "deepnote_to_be_reexecuted": false,
    "source_hash": "a0a4c02e",
    "execution_start": 1654167679182,
    "execution_millis": 44,
    "deepnote_cell_type": "code",
    "deepnote_cell_height": 195,
    "deepnote_output_heights": [
     98
    ]
   },
   "source": "list(ngrams(sent, 2)) # биграммы",
   "execution_count": 9,
   "outputs": [
    {
     "output_type": "execute_result",
     "execution_count": 9,
     "data": {
      "text/plain": "[('Если', 'б'),\n ('б', 'мне'),\n ('мне', 'платили'),\n ('платили', 'каждый'),\n ('каждый', 'раз')]"
     },
     "metadata": {}
    }
   ]
  },
  {
   "cell_type": "code",
   "metadata": {
    "colab": {
     "base_uri": "https://localhost:8080/"
    },
    "id": "d77jmVPhLVQU",
    "outputId": "c8de801b-8efc-437e-8673-4e9e31665ea5",
    "cell_id": "00013-39e44cd1-416b-4880-8b84-0289cb914913",
    "deepnote_to_be_reexecuted": false,
    "source_hash": "a67cf2bb",
    "execution_start": 1654167679255,
    "execution_millis": 0,
    "deepnote_cell_type": "code",
    "deepnote_cell_height": 175.78125,
    "deepnote_output_heights": [
     78.796875
    ]
   },
   "source": "list(ngrams(sent, 3)) # триграммы",
   "execution_count": 10,
   "outputs": [
    {
     "output_type": "execute_result",
     "execution_count": 10,
     "data": {
      "text/plain": "[('Если', 'б', 'мне'),\n ('б', 'мне', 'платили'),\n ('мне', 'платили', 'каждый'),\n ('платили', 'каждый', 'раз')]"
     },
     "metadata": {}
    }
   ]
  },
  {
   "cell_type": "code",
   "metadata": {
    "colab": {
     "base_uri": "https://localhost:8080/"
    },
    "id": "5xXTBrGELVQX",
    "outputId": "f5b423d9-db6b-4efa-8bfa-a446a55ee018",
    "cell_id": "00014-9856e2a8-dfb1-43d8-a0fd-49402536ab59",
    "deepnote_to_be_reexecuted": false,
    "source_hash": "dfc7add0",
    "execution_start": 1654167679361,
    "execution_millis": 4,
    "deepnote_cell_type": "code",
    "deepnote_cell_height": 137.375,
    "deepnote_output_heights": [
     40.390625
    ]
   },
   "source": "list(ngrams(sent, 5)) # ... пентаграммы?",
   "execution_count": 11,
   "outputs": [
    {
     "output_type": "execute_result",
     "execution_count": 11,
     "data": {
      "text/plain": "[('Если', 'б', 'мне', 'платили', 'каждый'),\n ('б', 'мне', 'платили', 'каждый', 'раз')]"
     },
     "metadata": {}
    }
   ]
  },
  {
   "cell_type": "markdown",
   "source": "Самый простой способ извлечь фичи из текстовых данных -- векторизаторы: `CountVectorizer` и `TfidfVectorizer`\n\nОбъект `CountVectorizer` делает простую вещь:\n* строит для каждого документа (каждой пришедшей ему строки) вектор размерности `n`, где `n` -- количество слов или n-грам во всём корпусе\n* заполняет каждый i-тый элемент количеством вхождений слова в данный документ",
   "metadata": {
    "id": "eHGJBEm-LVQb",
    "cell_id": "00015-2e02beed-b255-4d3b-bcb0-554d95bfdad8",
    "deepnote_cell_type": "markdown",
    "deepnote_cell_height": 187
   }
  },
  {
   "cell_type": "code",
   "metadata": {
    "id": "eMqZFBTgLVQb",
    "cell_id": "00016-437e5e5c-86b0-4506-a18f-de7024ec5701",
    "deepnote_to_be_reexecuted": false,
    "source_hash": "8698f088",
    "execution_start": 1654167679415,
    "execution_millis": 9078,
    "deepnote_cell_type": "code",
    "deepnote_cell_height": 99
   },
   "source": "vec = CountVectorizer(ngram_range=(1, 1))\nbow = vec.fit_transform(x_train) # bow -- bag of words (мешок слов)",
   "execution_count": 12,
   "outputs": []
  },
  {
   "cell_type": "markdown",
   "source": "ngram_range отвечает за то, какие n-граммы мы используем в качестве фичей:<br/>\nngram_range=(1, 1) -- униграммы<br/>\nngram_range=(3, 3) -- триграммы<br/>\nngram_range=(1, 3) -- униграммы, биграммы и триграммы.\n\nВ vec.vocabulary_ лежит словарь: мэппинг слов к их индексам:",
   "metadata": {
    "id": "AZkpqVtILVQe",
    "cell_id": "00017-a517ef72-3bfa-4cfc-9410-36747ef61f00",
    "deepnote_cell_type": "markdown",
    "deepnote_cell_height": 156
   }
  },
  {
   "cell_type": "code",
   "metadata": {
    "colab": {
     "base_uri": "https://localhost:8080/"
    },
    "id": "hWRtOSzKLVQf",
    "outputId": "668857b0-def2-4547-8fd5-014fe3858bec",
    "cell_id": "00018-a267d261-a148-4b92-bf09-a6a9c6c45f2e",
    "deepnote_to_be_reexecuted": false,
    "source_hash": "aeb55372",
    "execution_start": 1654167688679,
    "execution_millis": 729,
    "deepnote_cell_type": "code",
    "deepnote_cell_height": 291,
    "deepnote_output_heights": [
     194
    ]
   },
   "source": "list(vec.vocabulary_.items())[:10]",
   "execution_count": 13,
   "outputs": [
    {
     "output_type": "execute_result",
     "execution_count": 13,
     "data": {
      "text/plain": "[('oniyoneshot', 66523),\n ('да', 122688),\n ('меня', 157514),\n ('курофила', 150654),\n ('такая', 219533),\n ('же', 130968),\n ('так', 219524),\n ('что', 237554),\n ('сейчас', 208015),\n ('фасолью', 230134)]"
     },
     "metadata": {}
    }
   ]
  },
  {
   "cell_type": "code",
   "metadata": {
    "colab": {
     "base_uri": "https://localhost:8080/"
    },
    "id": "hkmX3iBbLVQi",
    "outputId": "5bbb432e-1c45-422a-edc2-60841ef0ee33",
    "cell_id": "00019-3da146aa-7567-4c83-8cd6-592614367084",
    "deepnote_to_be_reexecuted": false,
    "source_hash": "a08c8ca6",
    "execution_start": 1654167688790,
    "execution_millis": 24857,
    "deepnote_cell_type": "code",
    "deepnote_cell_height": 327,
    "deepnote_output_heights": [
     null,
     21.1875
    ]
   },
   "source": "clf = LogisticRegression(random_state=42)\nclf.fit(bow, y_train)",
   "execution_count": 14,
   "outputs": [
    {
     "name": "stderr",
     "text": "/shared-libs/python3.7/py/lib/python3.7/site-packages/sklearn/linear_model/_logistic.py:818: ConvergenceWarning: lbfgs failed to converge (status=1):\nSTOP: TOTAL NO. of ITERATIONS REACHED LIMIT.\n\nIncrease the number of iterations (max_iter) or scale the data as shown in:\n    https://scikit-learn.org/stable/modules/preprocessing.html\nPlease also refer to the documentation for alternative solver options:\n    https://scikit-learn.org/stable/modules/linear_model.html#logistic-regression\n  extra_warning_msg=_LOGISTIC_SOLVER_CONVERGENCE_MSG,\n",
     "output_type": "stream"
    },
    {
     "output_type": "execute_result",
     "execution_count": 14,
     "data": {
      "text/plain": "LogisticRegression(random_state=42)"
     },
     "metadata": {}
    }
   ]
  },
  {
   "cell_type": "code",
   "metadata": {
    "colab": {
     "base_uri": "https://localhost:8080/"
    },
    "id": "bJ8q5_59LVQm",
    "outputId": "d88c6de2-640a-4cc9-ae95-29fe12c80131",
    "cell_id": "00020-1ce1b43b-8dbe-4ad6-8fe2-5d2b42960ecd",
    "deepnote_to_be_reexecuted": false,
    "source_hash": "af0e6e1f",
    "execution_start": 1654167713679,
    "execution_millis": 7574,
    "deepnote_cell_type": "code",
    "deepnote_cell_height": 290
   },
   "source": "pred = clf.predict(vec.transform(x_test))\nprint(classification_report(pred, y_test))",
   "execution_count": 15,
   "outputs": [
    {
     "name": "stdout",
     "text": "              precision    recall  f1-score   support\n\n    negative       0.76      0.76      0.76     28033\n    positive       0.77      0.77      0.77     28676\n\n    accuracy                           0.76     56709\n   macro avg       0.76      0.76      0.76     56709\nweighted avg       0.76      0.76      0.76     56709\n\n",
     "output_type": "stream"
    }
   ]
  },
  {
   "cell_type": "markdown",
   "source": "Попробуем сделать то же самое для триграмм:",
   "metadata": {
    "id": "QAhgaYgqLVQp",
    "cell_id": "00021-e091b398-8bee-4031-aad8-ae82208ca893",
    "deepnote_cell_type": "markdown",
    "deepnote_cell_height": 52.390625
   }
  },
  {
   "cell_type": "code",
   "metadata": {
    "colab": {
     "base_uri": "https://localhost:8080/"
    },
    "id": "GPWXlh6ALVQq",
    "outputId": "094a7189-bc36-42df-81ee-f599a206ca0c",
    "cell_id": "00022-97f58e34-4d01-4e8f-b1ac-5fd60f1c2cba",
    "deepnote_to_be_reexecuted": false,
    "source_hash": "8e893263",
    "execution_start": 1654167721381,
    "execution_millis": 51737,
    "deepnote_cell_type": "code",
    "deepnote_cell_height": 362
   },
   "source": "vec = CountVectorizer(ngram_range=(3, 3))\nbow = vec.fit_transform(x_train)\nclf = LogisticRegression(random_state=42)\nclf.fit(bow, y_train)\npred = clf.predict(vec.transform(x_test))\nprint(classification_report(pred, y_test))",
   "execution_count": 16,
   "outputs": [
    {
     "name": "stdout",
     "text": "              precision    recall  f1-score   support\n\n    negative       0.46      0.72      0.56     18112\n    positive       0.82      0.61      0.70     38597\n\n    accuracy                           0.64     56709\n   macro avg       0.64      0.66      0.63     56709\nweighted avg       0.71      0.64      0.66     56709\n\n",
     "output_type": "stream"
    }
   ]
  },
  {
   "cell_type": "markdown",
   "source": "(как вы думаете, почему в результатах теперь такой разброс по сравнению с униграммами?)",
   "metadata": {
    "id": "dnfyJkzTLVQu",
    "cell_id": "00023-659c8e4d-fd24-4246-85bf-98b7771cf162",
    "deepnote_cell_type": "markdown",
    "deepnote_cell_height": 52.390625
   }
  },
  {
   "cell_type": "markdown",
   "source": "## TF-IDF векторизация",
   "metadata": {
    "id": "gJABxhalLVQu",
    "cell_id": "00024-61e61d13-51cd-4811-bfb7-97b412b60596",
    "deepnote_cell_type": "markdown",
    "deepnote_cell_height": 70
   }
  },
  {
   "cell_type": "markdown",
   "source": "`TfidfVectorizer` делает то же, что и `CountVectorizer`, но в качестве значений – tf-idf каждого слова.\n\nКак считается tf-idf:\n\nTF (term frequency) – относительная частотность слова в документе:\n$$ TF(t,d) = \\frac{n_t}{\\sum_k n_k} $$\n\n`t` -- слово (term), `d` -- документ, $n_t$ -- количество вхождений слова, $n_k$ -- количество вхождений остальных слов\n\nIDF (inverse document frequency) – обратная частота документов, в которых есть это слово:\n$$ IDF(t, D) = \\mbox{log} \\frac{|D|}{|{d : t \\in d}|} $$\n\n`t` -- слово (term), `D` -- коллекция документов\n\nПеремножаем их:\n$$TFIDF_(t,d,D) = TF(t,d) \\times IDF(i, D)$$\n\nСакральный смысл – если слово часто встречается в одном документе, но в целом по корпусу встречается в небольшом \nколичестве документов, у него высокий TF-IDF.",
   "metadata": {
    "id": "-LJES2s-LVQv",
    "cell_id": "00025-fa4aa432-785c-403d-9604-bea42f84f1e3",
    "deepnote_cell_type": "markdown",
    "deepnote_cell_height": 392.296875
   }
  },
  {
   "cell_type": "code",
   "metadata": {
    "id": "FmEcRD28LVQ0",
    "cell_id": "00026-42017c13-9411-40ab-9ba3-7d1fc59ae9d3",
    "deepnote_to_be_reexecuted": false,
    "source_hash": "9ff8297e",
    "execution_start": 1654167773114,
    "execution_millis": 1,
    "deepnote_cell_type": "code",
    "deepnote_cell_height": 81
   },
   "source": "from sklearn.feature_extraction.text import TfidfVectorizer",
   "execution_count": 17,
   "outputs": []
  },
  {
   "cell_type": "code",
   "metadata": {
    "colab": {
     "base_uri": "https://localhost:8080/"
    },
    "id": "AWLhMl9xLVQ3",
    "outputId": "054e5662-1c41-42f6-92e4-ce0194317ce8",
    "cell_id": "00027-ef8af21e-1370-4ed3-96cc-a28284a9ee10",
    "deepnote_to_be_reexecuted": false,
    "source_hash": "f87f0e23",
    "execution_start": 1654167773263,
    "execution_millis": 20880,
    "deepnote_cell_type": "code",
    "deepnote_cell_height": 526.796875
   },
   "source": "vec = TfidfVectorizer(ngram_range=(1, 1))\nbow = vec.fit_transform(x_train)\nclf = LogisticRegression(random_state=42)\nclf.fit(bow, y_train)\npred = clf.predict(vec.transform(x_test))\nprint(classification_report(pred, y_test))",
   "execution_count": 18,
   "outputs": [
    {
     "name": "stderr",
     "text": "/shared-libs/python3.7/py/lib/python3.7/site-packages/sklearn/linear_model/_logistic.py:818: ConvergenceWarning: lbfgs failed to converge (status=1):\nSTOP: TOTAL NO. of ITERATIONS REACHED LIMIT.\n\nIncrease the number of iterations (max_iter) or scale the data as shown in:\n    https://scikit-learn.org/stable/modules/preprocessing.html\nPlease also refer to the documentation for alternative solver options:\n    https://scikit-learn.org/stable/modules/linear_model.html#logistic-regression\n  extra_warning_msg=_LOGISTIC_SOLVER_CONVERGENCE_MSG,\n              precision    recall  f1-score   support\n\n    negative       0.73      0.77      0.75     26713\n    positive       0.78      0.75      0.77     29996\n\n    accuracy                           0.76     56709\n   macro avg       0.76      0.76      0.76     56709\nweighted avg       0.76      0.76      0.76     56709\n\n",
     "output_type": "stream"
    }
   ]
  },
  {
   "cell_type": "markdown",
   "source": "В этот раз получилось хуже :( Вернёмся к `CountVectorizer`.",
   "metadata": {
    "id": "HTODTRnKLVQ6",
    "cell_id": "00028-231991d3-60c6-4919-b9be-fbab6cf07955",
    "deepnote_cell_type": "markdown",
    "deepnote_cell_height": 52.390625
   }
  },
  {
   "cell_type": "markdown",
   "source": "## PMI",
   "metadata": {
    "id": "j8v9Scpn9Y0M",
    "cell_id": "00029-1eb073ab-4e1a-4bd9-87a6-a13f33648544",
    "deepnote_cell_type": "markdown",
    "deepnote_cell_height": 70
   }
  },
  {
   "cell_type": "markdown",
   "source": "Можно оценить взаимосвязь слов в корпусе и понять, какие биграммы наиболее часто встречаются в тексте. Для этого можно использовать метрику PMI (Pointwise Mutual Information) - поточечная взаимная информация. Метрика PMI для двух слов вычисляется по формуле:\n\n$$pmi(x; y) = log \\frac{p(x,y)}{p(x)p(y)} $$\n\nЗдесь p(y|x) - вероятность встретить слово $y$ после $x$, $p(y)$ - вероятность встретить слово $y$.",
   "metadata": {
    "id": "WVRqLcSY0etj",
    "cell_id": "00030-215d1a25-bf42-4829-91e0-0fd0119f52c2",
    "deepnote_cell_type": "markdown",
    "deepnote_cell_height": 173.828125
   }
  },
  {
   "cell_type": "markdown",
   "source": "Оценим важность биграмм в нашем обучающем корпусе.",
   "metadata": {
    "id": "WXgDwf6W6Kk5",
    "cell_id": "00031-b832d01d-9696-41dd-8d4c-798f741de90b",
    "deepnote_cell_type": "markdown",
    "deepnote_cell_height": 52.390625
   }
  },
  {
   "cell_type": "code",
   "metadata": {
    "colab": {
     "base_uri": "https://localhost:8080/"
    },
    "id": "LKmiOEaW53F9",
    "outputId": "96a85968-e0cb-4b17-cd62-bc3de5e3e9b3",
    "cell_id": "00032-5be3ad01-1af6-456d-a114-f97c00d4f717",
    "deepnote_to_be_reexecuted": false,
    "source_hash": "de25ed7f",
    "execution_start": 1654167793693,
    "execution_millis": 1032,
    "deepnote_cell_type": "code",
    "deepnote_cell_height": 321
   },
   "source": "from nltk import collocations \nnltk.download('genesis')\n\nprint(type(nltk.corpus.genesis.words('english-web.txt')))\nbigram_measures = collocations.BigramAssocMeasures()\n# bigram_finder.apply_freq_filter(5)\nbigram_finder = collocations.BigramCollocationFinder.from_documents([nltk.word_tokenize(x) for x in x_train])\nbigrams = bigram_finder.nbest(bigram_measures.pmi, 100)\nprint(bigrams)",
   "execution_count": 19,
   "outputs": [
    {
     "output_type": "error",
     "ename": "NameError",
     "evalue": "name 'nltk' is not defined",
     "traceback": [
      "\u001b[0;31m---------------------------------------------------------------------------\u001b[0m",
      "\u001b[0;31mNameError\u001b[0m                                 Traceback (most recent call last)",
      "\u001b[0;32m<ipython-input-19-fff04fc0c459>\u001b[0m in \u001b[0;36m<module>\u001b[0;34m\u001b[0m\n\u001b[1;32m      1\u001b[0m \u001b[0;32mfrom\u001b[0m \u001b[0mnltk\u001b[0m \u001b[0;32mimport\u001b[0m \u001b[0mcollocations\u001b[0m\u001b[0;34m\u001b[0m\u001b[0;34m\u001b[0m\u001b[0m\n\u001b[0;32m----> 2\u001b[0;31m \u001b[0mnltk\u001b[0m\u001b[0;34m.\u001b[0m\u001b[0mdownload\u001b[0m\u001b[0;34m(\u001b[0m\u001b[0;34m'genesis'\u001b[0m\u001b[0;34m)\u001b[0m\u001b[0;34m\u001b[0m\u001b[0;34m\u001b[0m\u001b[0m\n\u001b[0m\u001b[1;32m      3\u001b[0m \u001b[0;34m\u001b[0m\u001b[0m\n\u001b[1;32m      4\u001b[0m \u001b[0mprint\u001b[0m\u001b[0;34m(\u001b[0m\u001b[0mtype\u001b[0m\u001b[0;34m(\u001b[0m\u001b[0mnltk\u001b[0m\u001b[0;34m.\u001b[0m\u001b[0mcorpus\u001b[0m\u001b[0;34m.\u001b[0m\u001b[0mgenesis\u001b[0m\u001b[0;34m.\u001b[0m\u001b[0mwords\u001b[0m\u001b[0;34m(\u001b[0m\u001b[0;34m'english-web.txt'\u001b[0m\u001b[0;34m)\u001b[0m\u001b[0;34m)\u001b[0m\u001b[0;34m)\u001b[0m\u001b[0;34m\u001b[0m\u001b[0;34m\u001b[0m\u001b[0m\n\u001b[1;32m      5\u001b[0m \u001b[0mbigram_measures\u001b[0m \u001b[0;34m=\u001b[0m \u001b[0mcollocations\u001b[0m\u001b[0;34m.\u001b[0m\u001b[0mBigramAssocMeasures\u001b[0m\u001b[0;34m(\u001b[0m\u001b[0;34m)\u001b[0m\u001b[0;34m\u001b[0m\u001b[0;34m\u001b[0m\u001b[0m\n",
      "\u001b[0;31mNameError\u001b[0m: name 'nltk' is not defined"
     ]
    }
   ]
  },
  {
   "cell_type": "markdown",
   "source": "Можно рассмотреть другие метрики оценки важности биграмм, например, метрику правдоподобия (подробнее про вычисление метрики можно посмотреть [здесь (пункт 5.3.4)](http://www.corpus.unam.mx/cursoenah/ManningSchutze_1999_FoundationsofStatisticalNaturalLanguageProcessing.pdf):",
   "metadata": {
    "id": "_h4Cq1PUTTc-",
    "cell_id": "00033-321a924d-241a-4c1f-b120-e399d81fe72f",
    "deepnote_cell_type": "markdown",
    "deepnote_cell_height": 74.796875
   }
  },
  {
   "cell_type": "code",
   "metadata": {
    "colab": {
     "base_uri": "https://localhost:8080/"
    },
    "id": "lTOJg4KoOo84",
    "outputId": "45d38953-84e0-4a65-fccd-1e96fd83c3f3",
    "cell_id": "00034-d5150079-852c-43f8-b29f-2cee7f686d62",
    "deepnote_to_be_reexecuted": true,
    "source_hash": "1cb16e81",
    "deepnote_cell_type": "code",
    "deepnote_cell_height": 134.796875
   },
   "source": "bigrams = bigram_finder.nbest(bigram_measures.likelihood_ratio, 100)\nprint(bigrams)",
   "execution_count": null,
   "outputs": [
    {
     "name": "stdout",
     "output_type": "stream",
     "text": "[('(', '('), ('RT', '@'), (')', ')'), ('http', ':'), ('!', '!'), (':', 'D'), ('у', 'меня'), (':', '('), (',', 'а'), (',', 'что'), (',', 'но'), (')', 'http'), ('у', 'нас'), ('(', ','), (':', ')'), (',', '('), (':', '-'), (',', ')'), ('не', 'могу'), ('?', '?'), (':', '*'), (')', ','), (',', ':'), ('@', '('), (',', ','), (':', ','), ('(', ':'), ('@', ')'), ('со', 'мной'), ('@', ','), ('&', 'lt'), ('@', ':'), (':', ':'), ('(', '@'), (';', ')'), ('gt', ';'), ('новый', 'год'), (',', '@'), (')', ':'), ('не', 'знаю'), ('а', 'я'), ('@', '@'), (',', 'когда'), ('сих', 'пор'), ('У', 'меня'), ('потому', 'что'), ('lt', ';'), ('&', 'gt'), ('у', 'тебя'), (';', '('), ('все', 'равно'), ('с', 'тобой'), (',', 'как'), ('в', 'школу'), ('&', 'amp'), (')', '@'), (',', 'я'), ('(', 'http'), ('-', ')'), ('ничего', 'не'), ('я', 'не'), ('Как', 'же'), ('Доброе', 'утро'), ('не', '('), (':', 'DD'), ('--', '--'), ('самом', 'деле'), ('amp', ';'), ('не', ')'), ('(', '!'), ('до', 'сих'), (',', 'чтобы'), (',', '!'), ('D', 'http'), ('что', 'я'), ('=', ')'), ('об', 'этом'), ('не', ':'), ('никто', 'не'), ('.', 'А'), ('и', '('), ('с', 'кем'), ('как', 'же'), ('!', ','), (':', '!'), ('а', 'потом'), ('?', '—'), (',', '.'), ('и', ')'), ('Новый', 'Год'), ('.', ','), ('никогда', 'не'), ('@', 'не'), (':', '.'), (':', '|'), ('не', '@'), ('.', 'Но'), ('в', 'этом'), ('@', '!'), ('в', 'школе')]\n"
    }
   ]
  },
  {
   "cell_type": "markdown",
   "source": "Как можно заметить, немаловажную роль в текстах занимает пунктуация.",
   "metadata": {
    "id": "NfjCYZa8TeX_",
    "cell_id": "00035-35ae08e7-fa23-4ad7-82b8-d776b6d932db",
    "deepnote_cell_type": "markdown",
    "deepnote_cell_height": 52.390625
   }
  },
  {
   "cell_type": "markdown",
   "source": "## Стоп-слова и пунктуация\n\n*Стоп-слова* -- это слова, которые часто встречаются практически в любом тексте и ничего интересного не говорят о конретном документе, то есть играют роль шума. Поэтому их принято убирать. По той же причине убирают и пунктуацию.",
   "metadata": {
    "id": "5AJk1B39LVRP",
    "cell_id": "00036-93727d94-d40e-4cc3-b4fb-f3cef1e4cb37",
    "deepnote_cell_type": "markdown",
    "deepnote_cell_height": 130.796875
   }
  },
  {
   "cell_type": "code",
   "metadata": {
    "colab": {
     "base_uri": "https://localhost:8080/"
    },
    "id": "fpWhsTuRLVRP",
    "outputId": "1cd18efe-a3cd-4f56-ec4c-bec8b6ee442e",
    "cell_id": "00037-46fbdd3e-8cb0-461d-aed2-84743a87ff66",
    "deepnote_to_be_reexecuted": true,
    "source_hash": "4bfeaa4f",
    "deepnote_cell_type": "code",
    "deepnote_cell_height": 210.796875
   },
   "source": "# у вас здесь, вероятно, выскочит ошибка и надо будет загрузить стоп слова (в тексте ошибки написано, как)\nfrom nltk.corpus import stopwords\nnltk.download('stopwords')\nprint(stopwords.words('russian'))",
   "execution_count": null,
   "outputs": [
    {
     "name": "stdout",
     "output_type": "stream",
     "text": "[nltk_data] Downloading package stopwords to /root/nltk_data...\n[nltk_data]   Package stopwords is already up-to-date!\n['и', 'в', 'во', 'не', 'что', 'он', 'на', 'я', 'с', 'со', 'как', 'а', 'то', 'все', 'она', 'так', 'его', 'но', 'да', 'ты', 'к', 'у', 'же', 'вы', 'за', 'бы', 'по', 'только', 'ее', 'мне', 'было', 'вот', 'от', 'меня', 'еще', 'нет', 'о', 'из', 'ему', 'теперь', 'когда', 'даже', 'ну', 'вдруг', 'ли', 'если', 'уже', 'или', 'ни', 'быть', 'был', 'него', 'до', 'вас', 'нибудь', 'опять', 'уж', 'вам', 'ведь', 'там', 'потом', 'себя', 'ничего', 'ей', 'может', 'они', 'тут', 'где', 'есть', 'надо', 'ней', 'для', 'мы', 'тебя', 'их', 'чем', 'была', 'сам', 'чтоб', 'без', 'будто', 'чего', 'раз', 'тоже', 'себе', 'под', 'будет', 'ж', 'тогда', 'кто', 'этот', 'того', 'потому', 'этого', 'какой', 'совсем', 'ним', 'здесь', 'этом', 'один', 'почти', 'мой', 'тем', 'чтобы', 'нее', 'сейчас', 'были', 'куда', 'зачем', 'всех', 'никогда', 'можно', 'при', 'наконец', 'два', 'об', 'другой', 'хоть', 'после', 'над', 'больше', 'тот', 'через', 'эти', 'нас', 'про', 'всего', 'них', 'какая', 'много', 'разве', 'три', 'эту', 'моя', 'впрочем', 'хорошо', 'свою', 'этой', 'перед', 'иногда', 'лучше', 'чуть', 'том', 'нельзя', 'такой', 'им', 'более', 'всегда', 'конечно', 'всю', 'между']\n"
    }
   ]
  },
  {
   "cell_type": "code",
   "metadata": {
    "colab": {
     "base_uri": "https://localhost:8080/",
     "height": 35
    },
    "id": "OdRF7rlyLVRS",
    "outputId": "dd4ce4f0-13d0-4b21-a3a1-b9ecb281894f",
    "cell_id": "00038-e70d6b7d-9644-480d-98bc-d73b62397962",
    "deepnote_to_be_reexecuted": false,
    "source_hash": "f3890fbc",
    "execution_start": 1654168230557,
    "execution_millis": 4,
    "deepnote_cell_type": "code",
    "deepnote_cell_height": 136.1875,
    "deepnote_output_heights": [
     21.1875
    ]
   },
   "source": "from string import punctuation\npunctuation",
   "execution_count": 29,
   "outputs": [
    {
     "output_type": "execute_result",
     "execution_count": 29,
     "data": {
      "text/plain": "'!\"#$%&\\'()*+,-./:;<=>?@[\\\\]^_`{|}~'"
     },
     "metadata": {}
    }
   ]
  },
  {
   "cell_type": "code",
   "metadata": {
    "id": "OfXiH98XLVRV",
    "cell_id": "00039-55a74fae-9de4-4ead-907a-53b56e13504e",
    "deepnote_to_be_reexecuted": true,
    "source_hash": "a91f28d5",
    "deepnote_cell_type": "code",
    "deepnote_cell_height": 81
   },
   "source": "noise = stopwords.words('russian') + list(punctuation)",
   "execution_count": null,
   "outputs": []
  },
  {
   "cell_type": "markdown",
   "source": "В векторизаторах за стоп-слова, логичным образом, отвечает аргумент `stop_words`.",
   "metadata": {
    "id": "KtiIhHDMLVRY",
    "cell_id": "00040-6666687a-f26f-4399-abbb-52cac1575cde",
    "deepnote_cell_type": "markdown",
    "deepnote_cell_height": 52.390625
   }
  },
  {
   "cell_type": "code",
   "metadata": {
    "colab": {
     "base_uri": "https://localhost:8080/"
    },
    "id": "IZnbarm_LVRY",
    "outputId": "88f40278-165a-46ad-a75e-2e5d8e7e3a4d",
    "cell_id": "00041-1839e1c4-7816-4c6e-9bfc-a64bc1495511",
    "deepnote_to_be_reexecuted": true,
    "source_hash": "468a67a9",
    "deepnote_cell_type": "code",
    "deepnote_cell_height": 592.796875
   },
   "source": "vec = CountVectorizer(ngram_range=(1, 1), tokenizer=word_tokenize, stop_words=noise)\nbow = vec.fit_transform(x_train)\nclf = LogisticRegression(random_state=42)\nclf.fit(bow, y_train)\npred = clf.predict(vec.transform(x_test))\nprint(classification_report(pred, y_test))",
   "execution_count": null,
   "outputs": [
    {
     "name": "stderr",
     "output_type": "stream",
     "text": "/usr/local/lib/python3.7/dist-packages/sklearn/feature_extraction/text.py:385: UserWarning: Your stop_words may be inconsistent with your preprocessing. Tokenizing the stop words generated tokens ['``'] not in stop_words.\n  'stop_words.' % sorted(inconsistent))\n/usr/local/lib/python3.7/dist-packages/sklearn/linear_model/_logistic.py:940: ConvergenceWarning: lbfgs failed to converge (status=1):\nSTOP: TOTAL NO. of ITERATIONS REACHED LIMIT.\n\nIncrease the number of iterations (max_iter) or scale the data as shown in:\n    https://scikit-learn.org/stable/modules/preprocessing.html\nPlease also refer to the documentation for alternative solver options:\n    https://scikit-learn.org/stable/modules/linear_model.html#logistic-regression\n  extra_warning_msg=_LOGISTIC_SOLVER_CONVERGENCE_MSG)\n"
    },
    {
     "name": "stdout",
     "output_type": "stream",
     "text": "              precision    recall  f1-score   support\n\n    negative       0.80      0.76      0.78     29367\n    positive       0.75      0.79      0.77     27342\n\n    accuracy                           0.78     56709\n   macro avg       0.78      0.78      0.78     56709\nweighted avg       0.78      0.78      0.78     56709\n\n"
    }
   ]
  },
  {
   "cell_type": "markdown",
   "source": "Получилось чууть лучше. Что ещё можно сделать?",
   "metadata": {
    "id": "wr934O7yLVRb",
    "cell_id": "00042-76a7ed56-71eb-4ad8-a408-da7794d66c0f",
    "deepnote_cell_type": "markdown",
    "deepnote_cell_height": 52.390625
   }
  },
  {
   "cell_type": "markdown",
   "source": "## Лемматизация\n\nЛемматизация – это сведение разных форм одного слова к начальной форме – *лемме*. Почему это хорошо?\n* Во-первых, мы хотим рассматривать как отдельную фичу каждое *слово*, а не каждую его отдельную форму.\n* Во-вторых, некоторые стоп-слова стоят только в начальной форме, и без лематизации выкидываем мы только её.\n\nДля русского есть два хороших лемматизатора: mystem и pymorphy:\n\n### [Mystem](https://tech.yandex.ru/mystem/)\nКак с ним работать:\n* можно скачать mystem и запускать [из терминала с разными параметрами](https://tech.yandex.ru/mystem/doc/)\n* [pymystem3](https://pythonhosted.org/pymystem3/pymystem3.html) - обертка для питона, работает медленнее, но это удобно",
   "metadata": {
    "id": "D7O_oD1fLVRc",
    "cell_id": "00043-d9027dff-9d02-423e-a20d-05cbfb3c95be",
    "deepnote_cell_type": "markdown",
    "deepnote_cell_height": 366.796875
   }
  },
  {
   "cell_type": "code",
   "metadata": {
    "colab": {
     "base_uri": "https://localhost:8080/"
    },
    "id": "96HdoB7zLVRc",
    "outputId": "987397bc-55cb-4830-c361-5568f1f2e015",
    "cell_id": "00044-1805ecc3-97a1-4c36-bb98-51f060fff4db",
    "deepnote_to_be_reexecuted": true,
    "source_hash": "2b46b581",
    "deepnote_cell_type": "code",
    "deepnote_cell_height": 472.796875
   },
   "source": "!wget http://download.cdn.yandex.net/mystem/mystem-3.0-linux3.1-64bit.tar.gz\n!tar -xvf mystem-3.0-linux3.1-64bit.tar.gz\n!cp mystem /bin",
   "execution_count": null,
   "outputs": [
    {
     "name": "stdout",
     "output_type": "stream",
     "text": "--2021-09-09 13:19:45--  http://download.cdn.yandex.net/mystem/mystem-3.0-linux3.1-64bit.tar.gz\nResolving download.cdn.yandex.net (download.cdn.yandex.net)... 5.45.205.244, 5.45.205.243, 5.45.205.245, ...\nConnecting to download.cdn.yandex.net (download.cdn.yandex.net)|5.45.205.244|:80... connected.\nHTTP request sent, awaiting response... 302 Found\nLocation: https://cachev2-spb03.cdn.yandex.net/download.cdn.yandex.net/mystem/mystem-3.0-linux3.1-64bit.tar.gz?lid=122 [following]\n--2021-09-09 13:19:46--  https://cachev2-spb03.cdn.yandex.net/download.cdn.yandex.net/mystem/mystem-3.0-linux3.1-64bit.tar.gz?lid=122\nResolving cachev2-spb03.cdn.yandex.net (cachev2-spb03.cdn.yandex.net)... 37.140.137.3, 2a02:6b8:0:2221::303\nConnecting to cachev2-spb03.cdn.yandex.net (cachev2-spb03.cdn.yandex.net)|37.140.137.3|:443... connected.\nHTTP request sent, awaiting response... 200 OK\nLength: 16457938 (16M) [application/octet-stream]\nSaving to: ‘mystem-3.0-linux3.1-64bit.tar.gz.1’\n\nmystem-3.0-linux3.1 100%[===================>]  15.70M  9.80MB/s    in 1.6s    \n\n2021-09-09 13:19:49 (9.80 MB/s) - ‘mystem-3.0-linux3.1-64bit.tar.gz.1’ saved [16457938/16457938]\n\nmystem\n"
    }
   ]
  },
  {
   "cell_type": "code",
   "metadata": {
    "id": "kzQwGwAaZWV5",
    "cell_id": "00045-ed6e2706-ea20-49b3-8a20-d424fde10a9b",
    "deepnote_to_be_reexecuted": true,
    "source_hash": "e8f9497a",
    "deepnote_cell_type": "code",
    "deepnote_cell_height": 99
   },
   "source": "from pymystem3 import Mystem\nmystem_analyzer = Mystem()",
   "execution_count": null,
   "outputs": []
  },
  {
   "cell_type": "markdown",
   "source": "Мы инициализировали Mystem c дефолтными параметрами. А вообще параметры есть такие:\n* mystem_bin - путь к `mystem`, если их несколько\n* grammar_info - нужна ли грамматическая информация или только леммы (по дефолту нужна)\n* disambiguation - нужно ли снятие омонимии - дизамбигуация (по дефолту нужна)\n* entire_input - нужно ли сохранять в выводе все (пробелы всякие, например), или можно выкинуть (по дефолту оставляется все)\n\nМетоды Mystem принимают строку, токенизатор вшит внутри. Можно, конечно, и пословно анализировать, но тогда он не сможет учитывать контекст.\n\nМожно просто лемматизировать текст:",
   "metadata": {
    "id": "_w-_fkNtLVRf",
    "cell_id": "00046-d4605370-025f-4938-b245-b2f8a8c7ef42",
    "deepnote_cell_type": "markdown",
    "deepnote_cell_height": 282.59375
   }
  },
  {
   "cell_type": "code",
   "metadata": {
    "colab": {
     "base_uri": "https://localhost:8080/"
    },
    "id": "fjHHLQv9txDq",
    "outputId": "35bcb3cc-7853-48bf-d38d-04157f45221d",
    "cell_id": "00047-d1759574-3167-44fe-8d74-71c7c721eb37",
    "deepnote_to_be_reexecuted": true,
    "source_hash": "14246d7c",
    "deepnote_cell_type": "code",
    "deepnote_cell_height": 112
   },
   "source": "print(mystem_analyzer.lemmatize(example))",
   "execution_count": null,
   "outputs": [
    {
     "name": "stdout",
     "output_type": "stream",
     "text": "['но', ' ', 'не', ' ', 'каждый', ' ', 'хотеть', ' ', 'что-то', ' ', 'исправлять', ':(\\n']\n"
    }
   ]
  },
  {
   "cell_type": "markdown",
   "source": "А можно получить грамматическую информацию:",
   "metadata": {
    "id": "RI1eftjkLVRi",
    "cell_id": "00048-54811508-16cb-4100-ba15-65a65a5d6e4b",
    "deepnote_cell_type": "markdown",
    "deepnote_cell_height": 52.390625
   }
  },
  {
   "cell_type": "code",
   "metadata": {
    "colab": {
     "base_uri": "https://localhost:8080/"
    },
    "id": "j4MLqlZnxNEj",
    "outputId": "ffb676bb-932e-4579-817a-c15616431521",
    "cell_id": "00049-f0f1f60a-5fdd-420f-b490-66b678b2ee5b",
    "deepnote_to_be_reexecuted": true,
    "source_hash": "a3bf8ac1",
    "deepnote_cell_type": "code",
    "deepnote_cell_height": 502.1875,
    "deepnote_output_heights": [
     405.1875
    ]
   },
   "source": "mystem_analyzer.analyze(example)",
   "execution_count": null,
   "outputs": [
    {
     "data": {
      "text/plain": "[{'analysis': [{'gr': 'CONJ=', 'lex': 'но', 'wt': 0.9998906255}],\n  'text': 'Но'},\n {'text': ' '},\n {'analysis': [{'gr': 'PART=', 'lex': 'не', 'wt': 1}], 'text': 'не'},\n {'text': ' '},\n {'analysis': [{'gr': 'APRO=(вин,ед,муж,неод|им,ед,муж)',\n    'lex': 'каждый',\n    'wt': 0.9985975623}],\n  'text': 'каждый'},\n {'text': ' '},\n {'analysis': [{'gr': 'V,несов,пе=непрош,ед,изъяв,3-л',\n    'lex': 'хотеть',\n    'wt': 1}],\n  'text': 'хочет'},\n {'text': ' '},\n {'analysis': [{'gr': 'SPRO,ед,сред,неод=(вин|им)', 'lex': 'что-то', 'wt': 1}],\n  'text': 'что-то'},\n {'text': ' '},\n {'analysis': [{'gr': 'V,пе=инф,несов', 'lex': 'исправлять', 'wt': 1}],\n  'text': 'исправлять'},\n {'text': ':(\\n'}]"
     },
     "execution_count": 39,
     "metadata": {},
     "output_type": "execute_result"
    }
   ]
  },
  {
   "cell_type": "markdown",
   "source": "Давайте терепь используем лемматизатор майстема в качестве токенизатора.",
   "metadata": {
    "id": "ADcGtz4JLVRl",
    "cell_id": "00050-c19f2238-cac5-48d8-bfa4-c856215fc9aa",
    "deepnote_cell_type": "markdown",
    "deepnote_cell_height": 52.390625
   }
  },
  {
   "cell_type": "code",
   "metadata": {
    "id": "x48Q56tiLVRn",
    "cell_id": "00051-0279d2ba-0362-474c-ae01-ddd4ed9e5579",
    "deepnote_to_be_reexecuted": true,
    "source_hash": "cc46c2a0",
    "deepnote_cell_type": "code",
    "deepnote_cell_height": 153
   },
   "source": "import re\ndef my_preproc(text):\n    text = re.sub('[{}]'.format(punctuation), '', text)\n    text = mystem_analyzer.lemmatize(text)\n    return [word for word in text if word not in stopwords.words('russian') + [' ', '\\n']]",
   "execution_count": null,
   "outputs": []
  },
  {
   "cell_type": "code",
   "metadata": {
    "colab": {
     "base_uri": "https://localhost:8080/"
    },
    "id": "wEwOQTJPLVRq",
    "outputId": "b1047a05-9fa7-4994-c947-578cfc4d9825",
    "cell_id": "00052-7a1a9a00-ad0d-4775-b896-74d7d299bac8",
    "deepnote_to_be_reexecuted": true,
    "source_hash": "4082dea4",
    "deepnote_cell_type": "code",
    "deepnote_cell_height": 552.796875
   },
   "source": "vec = CountVectorizer(ngram_range=(1, 1), tokenizer=my_preproc)\nbow = vec.fit_transform(x_train)\nclf = LogisticRegression(random_state=42)\nclf.fit(bow, y_train)\npred = clf.predict(vec.transform(x_test))\nprint(classification_report(pred, y_test))",
   "execution_count": null,
   "outputs": [
    {
     "name": "stderr",
     "output_type": "stream",
     "text": "/usr/local/lib/python3.7/dist-packages/sklearn/linear_model/_logistic.py:940: ConvergenceWarning: lbfgs failed to converge (status=1):\nSTOP: TOTAL NO. of ITERATIONS REACHED LIMIT.\n\nIncrease the number of iterations (max_iter) or scale the data as shown in:\n    https://scikit-learn.org/stable/modules/preprocessing.html\nPlease also refer to the documentation for alternative solver options:\n    https://scikit-learn.org/stable/modules/linear_model.html#logistic-regression\n  extra_warning_msg=_LOGISTIC_SOLVER_CONVERGENCE_MSG)\n"
    },
    {
     "name": "stdout",
     "output_type": "stream",
     "text": "              precision    recall  f1-score   support\n\n    negative       0.77      0.74      0.76     29425\n    positive       0.73      0.77      0.75     27284\n\n    accuracy                           0.75     56709\n   macro avg       0.75      0.75      0.75     56709\nweighted avg       0.75      0.75      0.75     56709\n\n"
    }
   ]
  },
  {
   "cell_type": "markdown",
   "source": "### [Pymorphy](http://pymorphy2.readthedocs.io/en/latest/)\nЭто модуль на питоне, довольно быстрый и с кучей функций.",
   "metadata": {
    "id": "RJlvqWuALVRs",
    "cell_id": "00053-235b7a17-c76a-42f1-8e7e-7000e8f46890",
    "deepnote_cell_type": "markdown",
    "deepnote_cell_height": 100.390625
   }
  },
  {
   "cell_type": "code",
   "metadata": {
    "colab": {
     "base_uri": "https://localhost:8080/"
    },
    "id": "tHDkurN1zf7g",
    "outputId": "c9934446-bf72-4603-8a51-9f6ebf406e44",
    "cell_id": "00054-b2cbd7c1-3d0b-483a-a686-28b61e650950",
    "deepnote_to_be_reexecuted": true,
    "source_hash": "45cf311f",
    "deepnote_cell_type": "code",
    "deepnote_cell_height": 312
   },
   "source": "!pip install pymorphy2",
   "execution_count": null,
   "outputs": [
    {
     "name": "stdout",
     "output_type": "stream",
     "text": "Collecting pymorphy2\n  Downloading pymorphy2-0.9.1-py3-none-any.whl (55 kB)\n\u001b[?25l\r\u001b[K     |██████                          | 10 kB 23.5 MB/s eta 0:00:01\r\u001b[K     |███████████▉                    | 20 kB 25.8 MB/s eta 0:00:01\r\u001b[K     |█████████████████▊              | 30 kB 12.2 MB/s eta 0:00:01\r\u001b[K     |███████████████████████▋        | 40 kB 9.6 MB/s eta 0:00:01\r\u001b[K     |█████████████████████████████▌  | 51 kB 4.9 MB/s eta 0:00:01\r\u001b[K     |████████████████████████████████| 55 kB 1.9 MB/s \n\u001b[?25hRequirement already satisfied: docopt>=0.6 in /usr/local/lib/python3.7/dist-packages (from pymorphy2) (0.6.2)\nCollecting dawg-python>=0.7.1\n  Downloading DAWG_Python-0.7.2-py2.py3-none-any.whl (11 kB)\nCollecting pymorphy2-dicts-ru<3.0,>=2.4\n  Downloading pymorphy2_dicts_ru-2.4.417127.4579844-py2.py3-none-any.whl (8.2 MB)\n\u001b[K     |████████████████████████████████| 8.2 MB 10.7 MB/s \n\u001b[?25hInstalling collected packages: pymorphy2-dicts-ru, dawg-python, pymorphy2\nSuccessfully installed dawg-python-0.7.2 pymorphy2-0.9.1 pymorphy2-dicts-ru-2.4.417127.4579844\n"
    }
   ]
  },
  {
   "cell_type": "code",
   "metadata": {
    "id": "7SlwsLU7LVRt",
    "cell_id": "00055-2c4d9391-5e0a-4611-a9da-ec257d48dc16",
    "deepnote_to_be_reexecuted": true,
    "source_hash": "2dc8bb10",
    "deepnote_cell_type": "code",
    "deepnote_cell_height": 99
   },
   "source": "from pymorphy2 import MorphAnalyzer\npymorphy2_analyzer = MorphAnalyzer()",
   "execution_count": null,
   "outputs": []
  },
  {
   "cell_type": "markdown",
   "source": "pymorphy2 работает с отдельными словами. Если дать ему на вход предложение - он его просто не лемматизирует, т.к. не понимает",
   "metadata": {
    "id": "Qaz0x7frLVRw",
    "cell_id": "00056-a4236ffb-205b-4e76-8e79-3a4f25bbc08a",
    "deepnote_cell_type": "markdown",
    "deepnote_cell_height": 74.796875
   }
  },
  {
   "cell_type": "code",
   "metadata": {
    "colab": {
     "base_uri": "https://localhost:8080/"
    },
    "id": "jdf6XoEbLVRw",
    "outputId": "a1984e06-dbeb-4377-896d-b7014b6b84c1",
    "cell_id": "00057-b01944e0-3011-4711-82f8-35743242e6bb",
    "deepnote_to_be_reexecuted": true,
    "source_hash": "82bb94a8",
    "deepnote_cell_type": "code",
    "deepnote_cell_height": 136.1875,
    "deepnote_output_heights": [
     21.1875
    ]
   },
   "source": "ana = pymorphy2_analyzer.parse(sent[3])\nana",
   "execution_count": null,
   "outputs": [
    {
     "data": {
      "text/plain": "[Parse(word='платили', tag=OpencorporaTag('VERB,impf,tran plur,past,indc'), normal_form='платить', score=1.0, methods_stack=((DictionaryAnalyzer(), 'платили', 2472, 10),))]"
     },
     "execution_count": 44,
     "metadata": {},
     "output_type": "execute_result"
    }
   ]
  },
  {
   "cell_type": "code",
   "metadata": {
    "colab": {
     "base_uri": "https://localhost:8080/",
     "height": 35
    },
    "id": "0KuHQGPgLVRz",
    "outputId": "3cdbe79d-ec3f-4a07-ff3a-52e8810face1",
    "cell_id": "00058-3a4dbdc5-f4ef-4505-8430-18f21b57727b",
    "deepnote_to_be_reexecuted": true,
    "source_hash": "6e9dbeb4",
    "deepnote_cell_type": "code",
    "deepnote_cell_height": 118.1875,
    "deepnote_output_heights": [
     21.1875
    ]
   },
   "source": "ana[0].normal_form",
   "execution_count": null,
   "outputs": [
    {
     "data": {
      "application/vnd.google.colaboratory.intrinsic+json": {
       "type": "string"
      },
      "text/plain": "'платить'"
     },
     "execution_count": 45,
     "metadata": {},
     "output_type": "execute_result"
    }
   ]
  },
  {
   "cell_type": "code",
   "metadata": {
    "id": "gg0EASPcLVR8",
    "cell_id": "00059-a0b9ad5e-6405-4e75-b98b-8a0ecda2b943",
    "deepnote_to_be_reexecuted": true,
    "source_hash": "b623e53d",
    "deepnote_cell_type": "code",
    "deepnote_cell_height": 81
   },
   "source": "",
   "execution_count": null,
   "outputs": []
  },
  {
   "cell_type": "markdown",
   "source": "### [Natasha](https://github.com/natasha/)\n\nВ библиотеке natasha реализовано множество полезных библиотек для русского языка: разбиение на токены и предложения, русскоязычные word embeddings, морфологический, синтаксический анализ, лемматизация, извлечение именованных сущностей и т.д. Модуль библиотеки Razdel, основанный на правилах, предназначен для разбиения текста на токены и предложения.",
   "metadata": {
    "id": "gFTkF8xUARlS",
    "cell_id": "00060-d7afa491-5b0e-49a2-b708-b637c298cd02",
    "deepnote_cell_type": "markdown",
    "deepnote_cell_height": 167.59375
   }
  },
  {
   "cell_type": "code",
   "metadata": {
    "colab": {
     "base_uri": "https://localhost:8080/"
    },
    "id": "-CVeDxeIA6rg",
    "outputId": "ff583009-ae7a-4b68-b6a7-ca1ba48c0732",
    "cell_id": "00061-3927d4b9-550b-4816-8a18-adda56cf3768",
    "deepnote_to_be_reexecuted": true,
    "source_hash": "7072ab0f",
    "deepnote_cell_type": "code",
    "deepnote_cell_height": 172
   },
   "source": "!pip install razdel",
   "execution_count": null,
   "outputs": [
    {
     "name": "stdout",
     "output_type": "stream",
     "text": "Collecting razdel\n  Downloading razdel-0.5.0-py3-none-any.whl (21 kB)\nInstalling collected packages: razdel\nSuccessfully installed razdel-0.5.0\n"
    }
   ]
  },
  {
   "cell_type": "code",
   "metadata": {
    "colab": {
     "base_uri": "https://localhost:8080/"
    },
    "id": "MOTkw9MpAnNN",
    "outputId": "51fc6e54-3b82-4c1c-91c2-5b6a60f6304f",
    "cell_id": "00062-21451d08-3093-4700-a035-149f834a2d38",
    "deepnote_to_be_reexecuted": true,
    "source_hash": "4d928e59",
    "deepnote_cell_type": "code",
    "deepnote_cell_height": 383.375,
    "deepnote_output_heights": [
     232.390625
    ]
   },
   "source": "from razdel import tokenize\n\ntokens = list(tokenize('Кружка-термос на 0.5л (50/64 см³, 516;...)'))\ntokens",
   "execution_count": null,
   "outputs": [
    {
     "data": {
      "text/plain": "[Substring(0, 13, 'Кружка-термос'),\n Substring(14, 16, 'на'),\n Substring(17, 20, '0.5'),\n Substring(20, 21, 'л'),\n Substring(22, 23, '('),\n Substring(23, 28, '50/64'),\n Substring(29, 32, 'см³'),\n Substring(32, 33, ','),\n Substring(34, 37, '516'),\n Substring(37, 38, ';'),\n Substring(38, 41, '...'),\n Substring(41, 42, ')')]"
     },
     "execution_count": 47,
     "metadata": {},
     "output_type": "execute_result"
    }
   ]
  },
  {
   "cell_type": "code",
   "metadata": {
    "colab": {
     "base_uri": "https://localhost:8080/"
    },
    "id": "Ftx-WzUbBCpO",
    "outputId": "40c67fa4-fab6-4c1b-f651-06951a38798e",
    "cell_id": "00063-dd91c739-1de5-40d0-a62d-f718da68626a",
    "deepnote_to_be_reexecuted": true,
    "source_hash": "6519fcdc",
    "deepnote_cell_type": "code",
    "deepnote_cell_height": 329.375,
    "deepnote_output_heights": [
     232.390625
    ]
   },
   "source": "[_.text for _ in tokens]",
   "execution_count": null,
   "outputs": [
    {
     "data": {
      "text/plain": "['Кружка-термос',\n 'на',\n '0.5',\n 'л',\n '(',\n '50/64',\n 'см³',\n ',',\n '516',\n ';',\n '...',\n ')']"
     },
     "execution_count": 48,
     "metadata": {},
     "output_type": "execute_result"
    }
   ]
  },
  {
   "cell_type": "code",
   "metadata": {
    "colab": {
     "base_uri": "https://localhost:8080/"
    },
    "id": "uyhsQp4MGbW8",
    "outputId": "55f84576-aaad-4a68-c5d9-38dc0ea2f721",
    "cell_id": "00064-444325e1-235a-403b-b7f5-a2bc3196c818",
    "deepnote_to_be_reexecuted": true,
    "source_hash": "a3d7aa9f",
    "deepnote_cell_type": "code",
    "deepnote_cell_height": 701
   },
   "source": "!pip install natasha",
   "execution_count": null,
   "outputs": [
    {
     "name": "stdout",
     "output_type": "stream",
     "text": "Collecting natasha\n  Downloading natasha-1.4.0-py3-none-any.whl (34.4 MB)\n\u001b[K     |████████████████████████████████| 34.4 MB 30 kB/s \n\u001b[?25hCollecting ipymarkup>=0.8.0\n  Downloading ipymarkup-0.9.0-py3-none-any.whl (14 kB)\nCollecting navec>=0.9.0\n  Downloading navec-0.10.0-py3-none-any.whl (23 kB)\nRequirement already satisfied: pymorphy2 in /usr/local/lib/python3.7/dist-packages (from natasha) (0.9.1)\nCollecting yargy>=0.14.0\n  Downloading yargy-0.15.0-py3-none-any.whl (41 kB)\n\u001b[K     |████████████████████████████████| 41 kB 102 kB/s \n\u001b[?25hCollecting slovnet>=0.3.0\n  Downloading slovnet-0.5.0-py3-none-any.whl (49 kB)\n\u001b[K     |████████████████████████████████| 49 kB 4.0 MB/s \n\u001b[?25hRequirement already satisfied: razdel>=0.5.0 in /usr/local/lib/python3.7/dist-packages (from natasha) (0.5.0)\nCollecting intervaltree>=3\n  Downloading intervaltree-3.1.0.tar.gz (32 kB)\nRequirement already satisfied: sortedcontainers<3.0,>=2.0 in /usr/local/lib/python3.7/dist-packages (from intervaltree>=3->ipymarkup>=0.8.0->natasha) (2.4.0)\nRequirement already satisfied: numpy in /usr/local/lib/python3.7/dist-packages (from navec>=0.9.0->natasha) (1.19.5)\nRequirement already satisfied: dawg-python>=0.7.1 in /usr/local/lib/python3.7/dist-packages (from pymorphy2->natasha) (0.7.2)\nRequirement already satisfied: pymorphy2-dicts-ru<3.0,>=2.4 in /usr/local/lib/python3.7/dist-packages (from pymorphy2->natasha) (2.4.417127.4579844)\nRequirement already satisfied: docopt>=0.6 in /usr/local/lib/python3.7/dist-packages (from pymorphy2->natasha) (0.6.2)\nBuilding wheels for collected packages: intervaltree\n  Building wheel for intervaltree (setup.py) ... \u001b[?25l\u001b[?25hdone\n  Created wheel for intervaltree: filename=intervaltree-3.1.0-py2.py3-none-any.whl size=26119 sha256=c21bb14c19f5774a60e5bb5d903ac3f80d37a2760af69683789029fcfa71fc54\n  Stored in directory: /root/.cache/pip/wheels/16/85/bd/1001cbb46dcfb71c2001cd7401c6fb250392f22a81ce3722f7\nSuccessfully built intervaltree\nInstalling collected packages: navec, intervaltree, yargy, slovnet, ipymarkup, natasha\n  Attempting uninstall: intervaltree\n    Found existing installation: intervaltree 2.1.0\n    Uninstalling intervaltree-2.1.0:\n      Successfully uninstalled intervaltree-2.1.0\nSuccessfully installed intervaltree-3.1.0 ipymarkup-0.9.0 natasha-1.4.0 navec-0.10.0 slovnet-0.5.0 yargy-0.15.0\n"
    }
   ]
  },
  {
   "cell_type": "markdown",
   "source": "С помощью библиотеки natasha можно также лемматизировать тексты.",
   "metadata": {
    "id": "jMO3jsqLKSIV",
    "cell_id": "00065-26b7e97f-f3cd-4acb-a2ae-3c18a6c392c8",
    "deepnote_cell_type": "markdown",
    "deepnote_cell_height": 52.390625
   }
  },
  {
   "cell_type": "code",
   "metadata": {
    "id": "vJZgfRnvIS2q",
    "cell_id": "00066-afef1040-544a-4dea-87ab-cd5ee78f1497",
    "deepnote_to_be_reexecuted": true,
    "source_hash": "2cddef55",
    "deepnote_cell_type": "code",
    "deepnote_cell_height": 315
   },
   "source": "from natasha import Doc, MorphVocab, Segmenter, NewsEmbedding, NewsMorphTagger\n\nsegmenter = Segmenter()\nmorph_vocab = MorphVocab()\nemb = NewsEmbedding()\nmorph_tagger = NewsMorphTagger(emb)\n\ndef natasha_lemmatize(text):\n  doc = Doc(text)\n  doc.segment(segmenter)\n  doc.tag_morph(morph_tagger)\n  for token in doc.tokens:\n    token.lemmatize(morph_vocab)\n  return {_.text: _.lemma for _ in doc.tokens}",
   "execution_count": null,
   "outputs": []
  },
  {
   "cell_type": "code",
   "metadata": {
    "colab": {
     "base_uri": "https://localhost:8080/"
    },
    "id": "iBtlnYlFBOKv",
    "outputId": "47a9e7d6-7f03-4e93-e57c-84dce5657d97",
    "cell_id": "00067-2983fb72-92e0-48b0-b371-6c4f3526b1c9",
    "deepnote_to_be_reexecuted": true,
    "source_hash": "1c241c04",
    "deepnote_cell_type": "code",
    "deepnote_cell_height": 744,
    "deepnote_output_heights": [
     611
    ]
   },
   "source": "text = 'Посол Израиля на Украине Йоэль Лион признался, что пришел в шок, узнав о решении властей Львовской области объявить 2019 год годом лидера запрещенной в России Организации украинских националистов (ОУН) Степана Бандеры. Свое заявление он разместил в Twitter. «Я не могу понять, как прославление тех, кто непосредственно принимал участие в ужасных антисемитских преступлениях, помогает бороться с антисемитизмом и ксенофобией. Украина не должна забывать о преступлениях, совершенных против украинских евреев, и никоим образом не отмечать их через почитание их исполнителей», — написал дипломат. 11 декабря Львовский областной совет принял решение провозгласить 2019 год в регионе годом Степана Бандеры в связи с празднованием 110-летия со дня рождения лидера ОУН (Бандера родился 1 января 1909 года). В июле аналогичное решение принял Житомирский областной совет. В начале месяца с предложением к президенту страны Петру Порошенко вернуть Бандере звание Героя Украины обратились депутаты Верховной Рады. Парламентарии уверены, что признание Бандеры национальным героем поможет в борьбе с подрывной деятельностью против Украины в информационном поле, а также остановит «распространение мифов, созданных российской пропагандой». Степан Бандера (1909-1959) был одним из лидеров Организации украинских националистов, выступающей за создание независимого государства на территориях с украиноязычным населением. В 2010 году в период президентства Виктора Ющенко Бандера был посмертно признан Героем Украины, однако впоследствии это решение было отменено судом. '\n\nnatasha_lemmatize(text)",
   "execution_count": null,
   "outputs": [
    {
     "data": {
      "text/plain": "{'(': '(',\n ')': ')',\n ',': ',',\n '.': '.',\n '1': '1',\n '11': '11',\n '110-летия': '110-летие',\n '1909': '1909',\n '1909-1959': '1909-1959',\n '2010': '2010',\n '2019': '2019',\n 'Twitter': 'twitter',\n '«': '«',\n '»': '»',\n 'Бандера': 'бандера',\n 'Бандере': 'бандера',\n 'Бандеры': 'бандера',\n 'В': 'в',\n 'Верховной': 'верховный',\n 'Виктора': 'виктор',\n 'Героем': 'герой',\n 'Героя': 'герой',\n 'Житомирский': 'житомирский',\n 'Израиля': 'израиль',\n 'Йоэль': 'йоэль',\n 'Лион': 'лион',\n 'Львовский': 'львовский',\n 'Львовской': 'львовский',\n 'ОУН': 'оун',\n 'Организации': 'организация',\n 'Парламентарии': 'парламентарий',\n 'Петру': 'петр',\n 'Порошенко': 'порошенко',\n 'Посол': 'посол',\n 'Рады': 'рада',\n 'России': 'россия',\n 'Свое': 'свой',\n 'Степан': 'степан',\n 'Степана': 'степан',\n 'Украина': 'украина',\n 'Украине': 'украина',\n 'Украины': 'украина',\n 'Ющенко': 'ющенко',\n 'Я': 'я',\n 'а': 'а',\n 'аналогичное': 'аналогичный',\n 'антисемитизмом': 'антисемитизм',\n 'антисемитских': 'антисемитский',\n 'бороться': 'бороться',\n 'борьбе': 'борьба',\n 'был': 'быть',\n 'было': 'быть',\n 'в': 'в',\n 'вернуть': 'вернуть',\n 'властей': 'власть',\n 'впоследствии': 'впоследствии',\n 'выступающей': 'выступать',\n 'героем': 'герой',\n 'год': 'год',\n 'года': 'год',\n 'годом': 'год',\n 'году': 'год',\n 'государства': 'государство',\n 'декабря': 'декабрь',\n 'депутаты': 'депутат',\n 'деятельностью': 'деятельность',\n 'дипломат': 'дипломат',\n 'дня': 'день',\n 'должна': 'должный',\n 'евреев': 'еврей',\n 'за': 'за',\n 'забывать': 'забывать',\n 'запрещенной': 'запретить',\n 'заявление': 'заявление',\n 'звание': 'звание',\n 'и': 'и',\n 'из': 'из',\n 'информационном': 'информационный',\n 'исполнителей': 'исполнитель',\n 'их': 'они',\n 'июле': 'июль',\n 'к': 'к',\n 'как': 'как',\n 'ксенофобией': 'ксенофобия',\n 'кто': 'кто',\n 'лидера': 'лидер',\n 'лидеров': 'лидер',\n 'месяца': 'месяц',\n 'мифов': 'миф',\n 'могу': 'мочь',\n 'на': 'на',\n 'написал': 'написать',\n 'населением': 'население',\n 'националистов': 'националист',\n 'национальным': 'национальный',\n 'начале': 'начало',\n 'не': 'не',\n 'независимого': 'независимый',\n 'непосредственно': 'непосредственно',\n 'никоим': 'никой',\n 'о': 'о',\n 'области': 'область',\n 'областной': 'областной',\n 'образом': 'образ',\n 'обратились': 'обратиться',\n 'объявить': 'объявить',\n 'однако': 'однако',\n 'одним': 'один',\n 'он': 'он',\n 'остановит': 'остановить',\n 'отменено': 'отменить',\n 'отмечать': 'отмечать',\n 'период': 'период',\n 'подрывной': 'подрывной',\n 'поле': 'поле',\n 'помогает': 'помогать',\n 'поможет': 'помочь',\n 'понять': 'понять',\n 'посмертно': 'посмертно',\n 'почитание': 'почитание',\n 'празднованием': 'празднование',\n 'предложением': 'предложение',\n 'президентства': 'президентство',\n 'президенту': 'президент',\n 'преступлениях': 'преступление',\n 'признался': 'признаться',\n 'признан': 'признать',\n 'признание': 'признание',\n 'принимал': 'принимать',\n 'принял': 'принять',\n 'пришел': 'прийти',\n 'провозгласить': 'провозгласить',\n 'пропагандой': 'пропаганда',\n 'прославление': 'прославление',\n 'против': 'против',\n 'разместил': 'разместить',\n 'распространение': 'распространение',\n 'регионе': 'регион',\n 'решение': 'решение',\n 'решении': 'решение',\n 'родился': 'родиться',\n 'рождения': 'рождение',\n 'российской': 'российский',\n 'с': 'с',\n 'связи': 'связь',\n 'со': 'с',\n 'совершенных': 'совершить',\n 'совет': 'совет',\n 'создание': 'создание',\n 'созданных': 'создать',\n 'страны': 'страна',\n 'судом': 'суд',\n 'также': 'также',\n 'территориях': 'территория',\n 'тех': 'тот',\n 'уверены': 'уверить',\n 'ужасных': 'ужасный',\n 'узнав': 'узнать',\n 'украиноязычным': 'украиноязычный',\n 'украинских': 'украинский',\n 'участие': 'участие',\n 'через': 'через',\n 'что': 'что',\n 'шок': 'шок',\n 'это': 'это',\n 'января': 'январь',\n '—': '—'}"
     },
     "execution_count": 51,
     "metadata": {},
     "output_type": "execute_result"
    }
   ]
  },
  {
   "cell_type": "markdown",
   "source": "### mystem vs. pymorphy vs. natasha\n\n1) *Мы надеемся, что вы пользуетесь линуксом*, но mystem работает невероятно медленно под windows на больших текстах.\n\n2) *Снятие омонимии*. Mystem умеет снимать омонимию по контексту (хотя не всегда преуспевает), pymorphy2 берет на вход одно слово и соответственно вообще не умеет дизамбигуировать по контексту, natasha тоже с этим тоже не справляется успешно:",
   "metadata": {
    "id": "rck5OVqhLVSA",
    "cell_id": "00068-04be601f-35a0-4353-9172-740080892f3b",
    "deepnote_cell_type": "markdown",
    "deepnote_cell_height": 184.59375
   }
  },
  {
   "cell_type": "code",
   "metadata": {
    "id": "kH2GQ4ddLVSB",
    "cell_id": "00069-90806f35-8471-4b67-bee5-3db19b28bf5b",
    "deepnote_to_be_reexecuted": true,
    "source_hash": "7011a9dd",
    "deepnote_cell_type": "code",
    "deepnote_cell_height": 99
   },
   "source": "homonym1 = 'За время обучения я прослушал больше сорока курсов.'\nhomonym2 = 'Сорока своровала блестящее украшение со стола.'",
   "execution_count": null,
   "outputs": []
  },
  {
   "cell_type": "code",
   "metadata": {
    "colab": {
     "base_uri": "https://localhost:8080/"
    },
    "id": "WwF-XsjeI3eX",
    "outputId": "34e9f131-3af5-4a87-9a8c-aa51d6e076ae",
    "cell_id": "00070-e2ec009b-b208-4767-9d0f-bd506e590070",
    "deepnote_to_be_reexecuted": true,
    "source_hash": "54b2513",
    "deepnote_cell_type": "code",
    "deepnote_cell_height": 186
   },
   "source": "mystem_analyzer = Mystem() # инициализирую объект с дефолтными параметрами\n\nprint(mystem_analyzer.analyze(homonym1)[-5])\nprint(mystem_analyzer.analyze(homonym2)[0])",
   "execution_count": null,
   "outputs": [
    {
     "name": "stdout",
     "output_type": "stream",
     "text": "{'analysis': [{'lex': 'сорок', 'wt': 0.8710292578, 'gr': 'NUM=(пр|дат|род|твор)'}], 'text': 'сорока'}\n{'analysis': [{'lex': 'сорока', 'wt': 0.1210970059, 'gr': 'S,жен,од=им,ед'}], 'text': 'Сорока'}\n"
    }
   ]
  },
  {
   "cell_type": "code",
   "metadata": {
    "colab": {
     "base_uri": "https://localhost:8080/"
    },
    "id": "t9jezRVlFmDo",
    "outputId": "e2224fd9-09e3-428e-fa6a-1af94dcb2ca8",
    "cell_id": "00071-bb233bc3-105b-4c90-a2c4-3a96f1455af4",
    "deepnote_to_be_reexecuted": true,
    "source_hash": "c646c480",
    "deepnote_cell_type": "code",
    "deepnote_cell_height": 116.796875
   },
   "source": "print(natasha_lemmatize(homonym1))",
   "execution_count": null,
   "outputs": [
    {
     "name": "stdout",
     "output_type": "stream",
     "text": "{'За': 'за', 'время': 'время', 'обучения': 'обучение', 'я': 'я', 'прослушал': 'прослушать', 'больше': 'большой', 'сорока': 'сорок', 'курсов': 'курс', '.': '.'}\n"
    }
   ]
  },
  {
   "cell_type": "code",
   "metadata": {
    "colab": {
     "base_uri": "https://localhost:8080/"
    },
    "id": "SXjGBQPoI9gl",
    "outputId": "049fe8af-e0c5-499f-cc10-6d05b047a168",
    "cell_id": "00072-11a9a154-7d2c-4b18-b90a-3eccca8261d6",
    "deepnote_to_be_reexecuted": true,
    "source_hash": "1e0de7c1",
    "deepnote_cell_type": "code",
    "deepnote_cell_height": 116.796875
   },
   "source": "print(natasha_lemmatize(homonym2))",
   "execution_count": null,
   "outputs": [
    {
     "name": "stdout",
     "output_type": "stream",
     "text": "{'Сорока': 'сорок', 'своровала': 'своровать', 'блестящее': 'блестящий', 'украшение': 'украшение', 'со': 'с', 'стола': 'стол', '.': '.'}\n"
    }
   ]
  },
  {
   "cell_type": "markdown",
   "source": "## Словарь, закон Ципфа и закон Хипса",
   "metadata": {
    "id": "aP5qFnilLVSI",
    "cell_id": "00073-69427a67-ef53-43cc-9c74-524af96128e6",
    "deepnote_cell_type": "markdown",
    "deepnote_cell_height": 70
   }
  },
  {
   "cell_type": "markdown",
   "source": "Закон Ципфа -- эмпирическая закономерность: если все слова корпуса текста упорядочить по убыванию частоты их использования, то частота n-го слова в таком списке окажется приблизительно обратно пропорциональной его порядковому номеру n. Иными словами, частотность слов убывает очень быстро.",
   "metadata": {
    "id": "s1umtd3OLVSI",
    "cell_id": "00074-7c919502-c29c-4061-891a-0b7327c8abe7",
    "deepnote_cell_type": "markdown",
    "deepnote_cell_height": 97.1875
   }
  },
  {
   "cell_type": "code",
   "metadata": {
    "id": "lY0cWJ7eLVSJ",
    "cell_id": "00075-27de5285-4264-47ac-a95d-98823a2c6842",
    "deepnote_to_be_reexecuted": false,
    "source_hash": "9a5e960",
    "execution_start": 1654168325770,
    "execution_millis": 0,
    "deepnote_cell_type": "code",
    "deepnote_cell_height": 81
   },
   "source": "from collections import Counter",
   "execution_count": 33,
   "outputs": []
  },
  {
   "cell_type": "code",
   "metadata": {
    "cell_id": "81ef5b51b32647b2840491d16bf6faae",
    "tags": [],
    "deepnote_to_be_reexecuted": false,
    "source_hash": "b2ada353",
    "execution_start": 1654168190175,
    "execution_millis": 759,
    "deepnote_cell_type": "code",
    "deepnote_cell_height": 202.1875,
    "deepnote_output_heights": [
     null,
     21.1875
    ]
   },
   "source": "import nltk\nnltk.download('punkt')",
   "execution_count": 26,
   "outputs": [
    {
     "name": "stderr",
     "text": "[nltk_data] Downloading package punkt to /root/nltk_data...\n[nltk_data]   Unzipping tokenizers/punkt.zip.\n",
     "output_type": "stream"
    },
    {
     "output_type": "execute_result",
     "execution_count": 26,
     "data": {
      "text/plain": "True"
     },
     "metadata": {}
    }
   ]
  },
  {
   "cell_type": "code",
   "metadata": {
    "colab": {
     "base_uri": "https://localhost:8080/"
    },
    "id": "vIjqSVjpLVSL",
    "outputId": "a75ec748-ab21-4bd0-cd41-5a9fa8362b22",
    "cell_id": "00076-d2e4b28c-cab4-4a83-8e6c-a9384c2f6688",
    "deepnote_to_be_reexecuted": false,
    "source_hash": "edc134fc",
    "execution_start": 1654168242106,
    "execution_millis": 80338,
    "deepnote_cell_type": "code",
    "deepnote_cell_height": 272.1875,
    "deepnote_output_heights": [
     null,
     21.1875
    ]
   },
   "source": "from nltk.tokenize import word_tokenize \n\n\n\ncorpus = [token for tweet in df.text for token in word_tokenize(tweet) if token not in punctuation]\nprint(len(corpus))\ncorpus[:10]",
   "execution_count": 30,
   "outputs": [
    {
     "name": "stdout",
     "text": "2870536\n",
     "output_type": "stream"
    },
    {
     "output_type": "execute_result",
     "execution_count": 30,
     "data": {
      "text/plain": "['first_timee', 'хоть', 'я', 'и', 'школота', 'но', 'поверь', 'у', 'нас', 'то']"
     },
     "metadata": {}
    }
   ]
  },
  {
   "cell_type": "code",
   "metadata": {
    "id": "_oWC7NpkLVSO",
    "outputId": "965b9fbd-6328-4c13-f20f-cd3714d1adb4",
    "cell_id": "00077-bd5e753a-e52b-4545-bf8a-e93193f7ab07",
    "deepnote_to_be_reexecuted": false,
    "source_hash": "ee54675a",
    "execution_start": 1654168324324,
    "execution_millis": 1457,
    "deepnote_cell_type": "code",
    "deepnote_cell_height": 327,
    "deepnote_output_heights": [
     194
    ]
   },
   "source": "freq_dict = Counter(corpus)\nfreq_dict_sorted= sorted(freq_dict.items(), key=lambda x: -x[1])\nlist(freq_dict_sorted)[:10]",
   "execution_count": 32,
   "outputs": [
    {
     "output_type": "execute_result",
     "execution_count": 32,
     "data": {
      "text/plain": "[('не', 69472),\n ('и', 55166),\n ('в', 52902),\n ('я', 52818),\n ('RT', 38070),\n ('на', 35759),\n ('http', 32998),\n ('что', 31541),\n ('с', 27217),\n ('а', 26860)]"
     },
     "metadata": {}
    }
   ]
  },
  {
   "cell_type": "code",
   "metadata": {
    "id": "FrPkce0SLVSQ",
    "outputId": "d2ab5675-433a-480a-90ee-fa5dd9890922",
    "cell_id": "00078-70f2c8ae-fcc2-4dfc-9d70-fceae406b421",
    "deepnote_to_be_reexecuted": false,
    "source_hash": "ca3d5bf7",
    "execution_start": 1654170878514,
    "execution_millis": 366,
    "deepnote_cell_type": "code",
    "deepnote_cell_height": 419,
    "deepnote_output_heights": [
     250
    ]
   },
   "source": "import matplotlib.pyplot as plt\n%matplotlib inline\nfirst_freqs = [freq for word, freq in freq_dict_sorted[:300]]\nplt.plot(first_freqs)\nplt.show()",
   "execution_count": 55,
   "outputs": [
    {
     "data": {
      "text/plain": "<Figure size 432x288 with 1 Axes>",
      "image/png": "[encoded data removed]"
     },
     "metadata": {
      "needs_background": "light",
      "image/png": {
       "width": 387,
       "height": 248
      }
     },
     "output_type": "display_data"
    }
   ]
  },
  {
   "cell_type": "markdown",
   "source": "Закон Хипса -- обратная сторона закона Ципфа. Он описывает, что чем больше корпус, тем меньше новых слов добавляется с добавлением новых текстов. В какой-то момент корпус насыщается.",
   "metadata": {
    "id": "i_N5V_K-LVSU",
    "cell_id": "00079-08e48eb9-a0ae-4665-9dc1-d3305bb8bf26",
    "deepnote_cell_type": "markdown",
    "deepnote_cell_height": 74.796875
   }
  },
  {
   "cell_type": "markdown",
   "source": "## Задание 1.\n\n**Задание**: обучите три классификатора: \n\n1) на токенах с высокой частотой \n\n2) на токенах со средней частотой \n\n3) на токенах с низкой частотой\n\nСравните полученные результаты, оцените какие токены наиболее важные для классификации.",
   "metadata": {
    "id": "dw0GieJSMU-O",
    "cell_id": "00080-79f6478f-20ea-4308-9121-d5aec2e4dbf9",
    "deepnote_cell_type": "markdown",
    "deepnote_cell_height": 232
   }
  },
  {
   "cell_type": "code",
   "metadata": {
    "id": "QUQ6kAgPMqNn",
    "cell_id": "00081-9f999c0e-246b-461e-aebf-0f413e1200c8",
    "deepnote_to_be_reexecuted": false,
    "source_hash": "9f7b732d",
    "execution_start": 1654171337320,
    "execution_millis": 1268,
    "deepnote_cell_type": "code",
    "deepnote_cell_height": 207,
    "deepnote_output_heights": [
     21.1875
    ]
   },
   "source": "q = [0,  1/4, 1/2, 3/4, 1]\nimport numpy as np\nqn = np.quantile(first_freqs, q)\n\n\nhi_freq = [word for word, freq in freq_dict_sorted if freq >= qn[3]]\nmidle_freq = [word for word, freq in freq_dict_sorted if freq >= qn[1] and freq <= qn[3]]\nlow_freq = [word for word, freq in freq_dict_sorted if freq < qn[1]]",
   "execution_count": 71,
   "outputs": []
  },
  {
   "cell_type": "code",
   "source": "len(hi_freq), len(midle_freq), len(low_freq), qn",
   "metadata": {
    "cell_id": "9ca5ed2655554ff6855e5ffe71883813",
    "tags": [],
    "deepnote_to_be_reexecuted": false,
    "source_hash": "1a5cfac7",
    "execution_start": 1654171345605,
    "execution_millis": 305,
    "deepnote_cell_type": "code",
    "deepnote_cell_height": 118.1875,
    "deepnote_output_heights": [
     21.1875
    ]
   },
   "outputs": [
    {
     "output_type": "execute_result",
     "execution_count": 72,
     "data": {
      "text/plain": "(75, 150, 350898, array([  862. ,  1156.5,  1745. ,  3798.5, 69472. ]))"
     },
     "metadata": {}
    }
   ],
   "execution_count": 72
  },
  {
   "cell_type": "code",
   "source": "\ncorpus2 = [token for tweet in df.text for token in word_tokenize(tweet) if token in hi_freq and token not in punctuation]\nprint(len(corpus2))\ncorpus2[:100]",
   "metadata": {
    "cell_id": "d0e664c978e7406cad424c6a3cfb8cc8",
    "tags": [],
    "deepnote_to_be_reexecuted": false,
    "source_hash": "7342dc07",
    "execution_start": 1654172632139,
    "execution_millis": 124885,
    "deepnote_cell_type": "code",
    "deepnote_cell_height": 808,
    "deepnote_output_heights": [
     null,
     611
    ]
   },
   "outputs": [
    {
     "name": "stdout",
     "text": "961795\n",
     "output_type": "stream"
    },
    {
     "output_type": "execute_result",
     "execution_count": 80,
     "data": {
      "text/plain": "['я',\n 'и',\n 'но',\n 'у',\n 'нас',\n 'то',\n 'же',\n 'D',\n 'он',\n 'на',\n 'все',\n 'D',\n 'RT',\n 'Ну',\n 'ты',\n 'я',\n 'за',\n 'тебя',\n 'RT',\n '``',\n 'то',\n 'в',\n 'и',\n 'от',\n 'а',\n 'мы',\n 'уже',\n 'и',\n 'так',\n 'не',\n \"''\",\n 'http',\n 'что',\n 'D',\n 'все',\n 'у',\n 'тебя',\n 'что',\n 'D',\n 'ну',\n 'нет',\n '—',\n 'Я',\n 'не',\n 'ты',\n 'D',\n 'http',\n 'RT',\n 'D',\n 'ну',\n 'это',\n 'же',\n 'у',\n 'было',\n 'она',\n 'RT',\n 'тебя',\n 'есть',\n 'не',\n 'не',\n 'D',\n 'у',\n 'меня',\n 'есть',\n 'http',\n 'и',\n 'а',\n 'в',\n 'я',\n 'так',\n '...',\n 'RT',\n 'я',\n 'что',\n 'из',\n 'и',\n 'когда',\n 'он',\n 'мне',\n 'у',\n 'так',\n 'было',\n 'да',\n '...',\n '...',\n 'и',\n 'только',\n 'ты',\n '...',\n 'нет',\n 'всё',\n 'а',\n 'только',\n 'там',\n 'в',\n 'не',\n 'до',\n 'не',\n 'RT',\n 'а']"
     },
     "metadata": {}
    }
   ],
   "execution_count": 80
  },
  {
   "cell_type": "code",
   "source": "df['hi_freq']  = df.text\ndf['midle_freq']  = df.text\ndf['low_freq']  = df.text",
   "metadata": {
    "cell_id": "41d56872752643e8a3cca176b23da8ea",
    "tags": [],
    "deepnote_to_be_reexecuted": false,
    "source_hash": "c1c6d1f0",
    "execution_start": 1654173457383,
    "execution_millis": 52,
    "deepnote_cell_type": "code",
    "deepnote_cell_height": 117
   },
   "outputs": [],
   "execution_count": 84
  },
  {
   "cell_type": "code",
   "source": "for n, tweet in enumerate(df.text):\n    text  = [token for token in word_tokenize(tweet) if token in hi_freq and token not in punctuation]\n    df['hi_freq'][n] = \" \".join(text)\n    text  = [token for token in word_tokenize(tweet) if token in midle_freq and token not in punctuation]\n    df['midle_freq'][n] = \" \".join(text)\n    text  = [token for token in word_tokenize(tweet) if token in low_freq and token not in punctuation]\n    df['low_freq'][n] = \" \".join(text)\n    \n",
   "metadata": {
    "cell_id": "af9ce8638baf4e9ab49895acfa92f319",
    "tags": [],
    "deepnote_to_be_reexecuted": false,
    "source_hash": "87987290",
    "execution_start": 1654174243733,
    "execution_millis": 10980,
    "owner_user_id": "a78d8f20-db8c-4620-8748-ba91276c0b3e",
    "deepnote_cell_type": "code",
    "deepnote_cell_height": 225,
    "deepnote_output_heights": [
     21.1875
    ]
   },
   "outputs": [],
   "execution_count": 95
  },
  {
   "cell_type": "code",
   "source": "x_train, x_test, y_train, y_test = train_test_split(df.hi_freq, df.label)",
   "metadata": {
    "cell_id": "320fc01c9fe04ec5adb6e9d4d6a1ab46",
    "tags": [],
    "deepnote_to_be_reexecuted": false,
    "source_hash": "e1c648b3",
    "execution_start": 1654174210374,
    "execution_millis": 18,
    "deepnote_cell_type": "code",
    "deepnote_cell_height": 329.375,
    "deepnote_output_heights": [
     232.390625
    ]
   },
   "outputs": [
    {
     "output_type": "execute_result",
     "execution_count": 98,
     "data": {
      "text/plain": "0         first_timee школота поверь самое общество проф...\n1                            все-таки немного похож мальчик\n2                              KatiaCheh идиотка испугалась\n3         digger2912 Кто углу сидит погибает голода порц...\n4         irina_dyshkant значит страшилка посмотрев част...\n                                ...                        \n111918    Но не каждый хочет что то исправлять:( http://...\n111919    скучаю так :-( только @taaannyaaa вправляет мо...\n111920            Вот и в школу, в говно это идти уже надо(\n111921    RT @_Them__: @LisaBeroud Тауриэль, не грусти :...\n111922    Такси везет меня на работу. Раздумываю приплат...\nName: low_freq, Length: 226834, dtype: object"
     },
     "metadata": {}
    }
   ],
   "execution_count": 98
  },
  {
   "cell_type": "code",
   "source": "vec = TfidfVectorizer(ngram_range=(1, 1), tokenizer=word_tokenize)\nbow = vec.fit_transform(x_train)\nclf = LogisticRegression(random_state=42)\nclf.fit(bow, y_train)\npred = clf.predict(vec.transform(x_test))\nprint(classification_report(pred, y_test))",
   "metadata": {
    "cell_id": "8041ab45c3c648959d1f0926021440cc",
    "tags": [],
    "deepnote_cell_type": "code",
    "deepnote_cell_height": 156
   },
   "outputs": [],
   "execution_count": null
  },
  {
   "cell_type": "markdown",
   "source": "## О важности эксплоративного анализа\n\nНо иногда пунктуация бывает и не шумом -- главное отталкиваться от задачи. Что будет если вообще не убирать пунктуацию?",
   "metadata": {
    "id": "mV3fmzp-LVSU",
    "cell_id": "00082-ad4094da-c488-4d76-80d7-ab71b9957b28",
    "deepnote_cell_type": "markdown",
    "deepnote_cell_height": 130.796875
   }
  },
  {
   "cell_type": "code",
   "metadata": {
    "id": "qjkMxK9VLVSV",
    "outputId": "dfea56d5-4d92-4862-9788-29c8c8db29ac",
    "cell_id": "00083-215502f5-12b8-4d8e-b0a3-ad41bacc8402",
    "deepnote_to_be_reexecuted": true,
    "source_hash": "e227b6a7",
    "deepnote_cell_type": "code",
    "deepnote_cell_height": 322
   },
   "source": "vec = TfidfVectorizer(ngram_range=(1, 1), tokenizer=word_tokenize)\nbow = vec.fit_transform(x_train)\nclf = LogisticRegression(random_state=42)\nclf.fit(bow, y_train)\npred = clf.predict(vec.transform(x_test))\nprint(classification_report(pred, y_test))",
   "execution_count": null,
   "outputs": [
    {
     "name": "stdout",
     "output_type": "stream",
     "text": "             precision    recall  f1-score   support\n\n   negative       1.00      1.00      1.00     27764\n   positive       1.00      1.00      1.00     28945\n\navg / total       1.00      1.00      1.00     56709\n\n"
    }
   ]
  },
  {
   "cell_type": "markdown",
   "source": "Шок! Стоило оставить пунктуацию -- и все метрики равны 1. Как это получилось? Среди неё были очень значимые токены (как вы думаете, какие?). Найдите фичи с самыми большими коэффициэнтами:",
   "metadata": {
    "id": "w2fRbUAvLVSX",
    "cell_id": "00084-7575055d-8b65-457b-94f3-cd02d17ce17b",
    "deepnote_cell_type": "markdown",
    "deepnote_cell_height": 74.796875
   }
  },
  {
   "cell_type": "markdown",
   "source": "## Задание 2.\n\nнайти фичи с наибольшей значимостью, и вывести их",
   "metadata": {
    "cell_id": "00085-077941ce-5578-4bfd-98e2-b996cda5ab3c",
    "deepnote_cell_type": "markdown",
    "deepnote_cell_height": 108.390625
   }
  },
  {
   "cell_type": "code",
   "metadata": {
    "cell_id": "00086-1cb15592-2c2a-478f-a388-c790e6f50226",
    "deepnote_to_be_reexecuted": true,
    "source_hash": "b623e53d",
    "deepnote_cell_type": "code",
    "deepnote_cell_height": 81
   },
   "source": "",
   "execution_count": null,
   "outputs": []
  },
  {
   "cell_type": "code",
   "metadata": {
    "id": "b_JRuyuRLVSY",
    "cell_id": "00087-3e8caf02-83c3-468d-841c-8bd048fe4493",
    "deepnote_to_be_reexecuted": true,
    "source_hash": "b623e53d",
    "deepnote_cell_type": "code",
    "deepnote_cell_height": 81
   },
   "source": "",
   "execution_count": null,
   "outputs": []
  },
  {
   "cell_type": "markdown",
   "source": "Посмотрим, как один из супер-значительных токенов справится с классификацией безо всякого машинного обучения:",
   "metadata": {
    "id": "8vtAyItvLVSb",
    "cell_id": "00088-dabace6a-f5ec-4e11-9158-3688938aea7a",
    "deepnote_cell_type": "markdown",
    "deepnote_cell_height": 52.390625
   }
  },
  {
   "cell_type": "code",
   "metadata": {
    "id": "uqH07o-7LVSc",
    "outputId": "fad0a24a-98ee-4f84-8782-495548eb0fb4",
    "cell_id": "00089-b7957dd2-fe5e-4253-a61d-bfa49b406b28",
    "deepnote_to_be_reexecuted": true,
    "source_hash": "e618ee4",
    "deepnote_cell_type": "code",
    "deepnote_cell_height": 268
   },
   "source": "cool_token = \npred = ['positive' if cool_token in tweet else 'negative' for tweet in x_test]\nprint(classification_report(pred, y_test))",
   "execution_count": null,
   "outputs": [
    {
     "name": "stdout",
     "output_type": "stream",
     "text": "             precision    recall  f1-score   support\n\n   negative       1.00      0.85      0.92     32733\n   positive       0.83      1.00      0.91     23976\n\navg / total       0.93      0.91      0.91     56709\n\n"
    }
   ]
  },
  {
   "cell_type": "markdown",
   "source": "## Символьные n-граммы\n\nТеперь в качестве фичей используем, например, униграммы символов:",
   "metadata": {
    "id": "H5THCOjMLVSg",
    "cell_id": "00090-01d20bc3-3053-4b0e-88bc-3f7c1103a8c3",
    "deepnote_cell_type": "markdown",
    "deepnote_cell_height": 108.390625
   }
  },
  {
   "cell_type": "code",
   "metadata": {
    "id": "AIUwDOabLVSh",
    "outputId": "54f129b1-994f-448e-e861-1912b4a21cdc",
    "cell_id": "00091-d2066ceb-05b7-4429-84d0-4f61873688a3",
    "deepnote_to_be_reexecuted": true,
    "source_hash": "f6c389dc",
    "deepnote_cell_type": "code",
    "deepnote_cell_height": 322
   },
   "source": "vec = CountVectorizer(analyzer='char', ngram_range=(1, 1))\nbow = vec.fit_transform(x_train)\nclf = LogisticRegression(random_state=42)\nclf.fit(bow, y_train)\npred = clf.predict(vec.transform(x_test))\nprint(classification_report(pred, y_test))",
   "execution_count": null,
   "outputs": [
    {
     "name": "stdout",
     "output_type": "stream",
     "text": "             precision    recall  f1-score   support\n\n   negative       0.99      1.00      1.00     27667\n   positive       1.00      0.99      1.00     29042\n\navg / total       1.00      1.00      1.00     56709\n\n"
    }
   ]
  },
  {
   "cell_type": "markdown",
   "source": "В общем-то, теперь уже понятно, почему на этих данных здесь 1. Так или инчае, на символах классифицировать тоже можно: для некторых задач (например, для определения языка) фичи-символьные n-граммы решительно рулят.\n\nЕщё одна замечательная особенность фичей-символов: токенизация и лемматизация не нужна, можно использовать такой подход для языков, у которых нет готвых анализаторов.",
   "metadata": {
    "id": "Z_E0uPpgLVSj",
    "cell_id": "00092-de999a9a-c0f3-4fb4-a6aa-aca6d14af3e4",
    "deepnote_cell_type": "markdown",
    "deepnote_cell_height": 133.59375
   }
  },
  {
   "cell_type": "code",
   "metadata": {
    "cell_id": "00093-ae2218ee-9ddc-4905-b4ff-3cd8e9126229",
    "deepnote_to_be_reexecuted": true,
    "source_hash": "b623e53d",
    "deepnote_cell_type": "code",
    "deepnote_cell_height": 81
   },
   "source": "",
   "execution_count": null,
   "outputs": []
  },
  {
   "cell_type": "code",
   "metadata": {
    "cell_id": "00094-fa848c40-c92d-474c-a1ca-b4cfba02599d",
    "deepnote_to_be_reexecuted": true,
    "source_hash": "b623e53d",
    "deepnote_cell_type": "code",
    "deepnote_cell_height": 81
   },
   "source": "",
   "execution_count": null,
   "outputs": []
  },
  {
   "cell_type": "markdown",
   "source": "## Домашнее задание\n\nвсе материалы для выполения дз в `sem2.ipynb`\n\n\n### Задание 1.\n\n**Задание**: обучите три классификатора: \n\n1) на токенах с высокой частотой \n\n2) на токенах со средней частотой \n\n3) на токенах с низкой частотой\n\n\nСравните полученные результаты, оцените какие токены наиболее важные для классификации.\n\n\n### Задание 2.\n\nнайти фичи с наибольшей значимостью, и вывести их\n\n\n### Задание 3.\n\n1) сравнить count/tf-idf/hashing векторайзеры/полносвязанную сетку (построить classification_report)\n\n2) подобрать оптимальный размер для hashing векторайзера \n\n3) убедиться что для сетки нет переобучения",
   "metadata": {
    "cell_id": "00095-992d976c-56be-46bf-9c8f-b2bb5a4ef85b",
    "deepnote_cell_type": "markdown",
    "deepnote_cell_height": 562
   }
  },
  {
   "cell_type": "code",
   "metadata": {
    "cell_id": "00096-da86c468-7b33-427c-894d-5aaf72ba83a1",
    "deepnote_to_be_reexecuted": true,
    "source_hash": "b623e53d",
    "deepnote_cell_type": "code",
    "deepnote_cell_height": 81
   },
   "source": "",
   "execution_count": null,
   "outputs": []
  },
  {
   "cell_type": "code",
   "metadata": {
    "cell_id": "00097-7f73c986-e956-46b3-aff1-1f566126f1c1",
    "deepnote_to_be_reexecuted": true,
    "source_hash": "b623e53d",
    "deepnote_cell_type": "code",
    "deepnote_cell_height": 81
   },
   "source": "",
   "execution_count": null,
   "outputs": []
  },
  {
   "cell_type": "markdown",
   "source": "<a style='text-decoration:none;line-height:16px;display:flex;color:#5B5B62;padding:10px;justify-content:end;' href='https://deepnote.com?utm_source=created-in-deepnote-cell&projectId=af133a3e-e74e-4642-80b0-22c9c55ad802' target=\"_blank\">\n<img alt='Created in deepnote.com' style='display:inline;max-height:16px;margin:0px;margin-right:7.5px;' src='data:image/svg+xml;base64,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' > </img>\nCreated in <span style='font-weight:600;margin-left:4px;'>Deepnote</span></a>",
   "metadata": {
    "tags": [],
    "created_in_deepnote_cell": true,
    "deepnote_cell_type": "markdown"
   }
  }
 ],
 "nbformat": 4,
 "nbformat_minor": 1,
 "metadata": {
  "colab": {
   "collapsed_sections": [
    "gJABxhalLVQu",
    "IaQMCGHFLVQ6",
    "5AJk1B39LVRP",
    "RJlvqWuALVRs",
    "rck5OVqhLVSA",
    "mV3fmzp-LVSU",
    "H5THCOjMLVSg",
    "02s2Vh7MLVSj",
    "b1khxRFDLVSm",
    "sfUmWcAQLVSt",
    "BxvtN-3zLVS5",
    "gyrHhYkgLVTB"
   ],
   "name": "sem1_intro_common.ipynb",
   "provenance": []
  },
  "kernelspec": {
   "display_name": "Python 3",
   "language": "python",
   "name": "python3"
  },
  "language_info": {
   "codemirror_mode": {
    "name": "ipython",
    "version": 3
   },
   "file_extension": ".py",
   "mimetype": "text/x-python",
   "name": "python",
   "nbconvert_exporter": "python",
   "pygments_lexer": "ipython3",
   "version": "3.7.5"
  },
  "deepnote_notebook_id": "80943129-6440-4310-9645-5bf92f6f3142",
  "deepnote": {},
  "deepnote_execution_queue": [
   {
    "cellId": "af9ce8638baf4e9ab49895acfa92f319",
    "sessionId": "ce4d5864-0b7d-4d4e-92a2-7c3c7978f143",
    "msgId": "452cb827-df8f-4dff-bb85-c3c2da082597"
   }
  ]
 }
}